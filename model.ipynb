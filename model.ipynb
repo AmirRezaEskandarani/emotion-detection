{
  "cells": [
    {
      "cell_type": "code",
      "execution_count": 1,
      "metadata": {
        "id": "biSbi3YoKqBg"
      },
      "outputs": [],
      "source": [
        "import numpy as np \n",
        "import pandas as pd\n",
        "import matplotlib.pyplot as plt\n",
        "import seaborn as sns\n",
        "from sklearn.feature_extraction.text import CountVectorizer\n",
        "from nltk.tokenize import word_tokenize\n",
        "\n",
        "# from sklearn.feature_extraction.text import TfidfVectorizer\n",
        "import tensorflow as tf\n",
        "from tensorflow import keras\n",
        "from keras.layers.core import Dense, Dropout, Activation\n",
        "from keras.utils import np_utils\n",
        "from tensorflow.keras.optimizers import Adam\n",
        "from tensorflow.keras.models import Sequential\n",
        "from tensorflow.keras.callbacks import EarlyStopping\n",
        "from tensorflow.keras.layers import Dense, LSTM, Embedding, Bidirectional"
      ]
    },
    {
      "cell_type": "code",
      "execution_count": 2,
      "metadata": {
        "colab": {
          "base_uri": "https://localhost:8080/"
        },
        "id": "p-RZhs3YLJFV",
        "outputId": "c9993440-937c-43a7-b93a-7fed4829244d"
      },
      "outputs": [
        {
          "name": "stdout",
          "output_type": "stream",
          "text": [
            "Drive already mounted at /content/drive; to attempt to forcibly remount, call drive.mount(\"/content/drive\", force_remount=True).\n"
          ]
        }
      ],
      "source": [
        "from google.colab import drive\n",
        "drive.mount('/content/drive')"
      ]
    },
    {
      "cell_type": "code",
      "execution_count": 3,
      "metadata": {
        "id": "BvW5iIxhKyyX"
      },
      "outputs": [],
      "source": [
        "df_train = pd.read_csv('/content/drive/MyDrive/emotion detection/data/basic/armanTrainCleaned.csv')\n",
        "df_test = pd.read_csv('/content/drive/MyDrive/emotion detection/data/basic/armanTestCleaned.csv')\n"
      ]
    },
    {
      "cell_type": "code",
      "execution_count": 4,
      "metadata": {
        "colab": {
          "base_uri": "https://localhost:8080/",
          "height": 206
        },
        "id": "sDMvr2oRLDhD",
        "outputId": "b6765d57-ec2a-4b07-e15d-36607394bcce"
      },
      "outputs": [
        {
          "data": {
            "text/html": [
              "\n",
              "  <div id=\"df-03cef130-011f-419a-a430-05ff4907b0c6\">\n",
              "    <div class=\"colab-df-container\">\n",
              "      <div>\n",
              "<style scoped>\n",
              "    .dataframe tbody tr th:only-of-type {\n",
              "        vertical-align: middle;\n",
              "    }\n",
              "\n",
              "    .dataframe tbody tr th {\n",
              "        vertical-align: top;\n",
              "    }\n",
              "\n",
              "    .dataframe thead th {\n",
              "        text-align: right;\n",
              "    }\n",
              "</style>\n",
              "<table border=\"1\" class=\"dataframe\">\n",
              "  <thead>\n",
              "    <tr style=\"text-align: right;\">\n",
              "      <th></th>\n",
              "      <th>text</th>\n",
              "      <th>label</th>\n",
              "      <th>cleaned</th>\n",
              "      <th>stemmed</th>\n",
              "    </tr>\n",
              "  </thead>\n",
              "  <tbody>\n",
              "    <tr>\n",
              "      <th>0</th>\n",
              "      <td>خیلی کوچیک هستن و سایزشون بدرد نمیخوره میخوام ...</td>\n",
              "      <td>SAD</td>\n",
              "      <td>کوچیک هستن سایزشون بدرد نمیخوره میخوام بدم</td>\n",
              "      <td>خیلی کوچیک هستن و سایزشون بدرد نمیخوره میخوام ...</td>\n",
              "    </tr>\n",
              "    <tr>\n",
              "      <th>1</th>\n",
              "      <td>از صدای پرنده دم دمای صبح متنفرم متنفرم متنفرم</td>\n",
              "      <td>HATE</td>\n",
              "      <td>صدای پرنده دمای صبح متنفرم متنفرم متنفرم</td>\n",
              "      <td>از صدای پرنده دم دمای صبح متنفرم متنفرم متنفرم</td>\n",
              "    </tr>\n",
              "    <tr>\n",
              "      <th>2</th>\n",
              "      <td>\"کیفیتش خیلی خوبه با شک خریدم ولی واقعا راضیم...</td>\n",
              "      <td>SAD</td>\n",
              "      <td>کیفیتش خوبه شک خریدم واقعا راضیم حدود ماه متا...</td>\n",
              "      <td>\"کیفیتش خیلی خوبه با شک خریدم ولی واقعا راضیم...</td>\n",
              "    </tr>\n",
              "    <tr>\n",
              "      <th>3</th>\n",
              "      <td>چون همش با دوربین ثبت شده ، ایا میشه اعتراض زد...</td>\n",
              "      <td>OTHER</td>\n",
              "      <td>همش دوربین ثبت ایا اعتراض زد اصن تاثیر اطلاعی...</td>\n",
              "      <td>چون همش با دوربین ثبت شده ، ایا میشه اعتراض زد...</td>\n",
              "    </tr>\n",
              "    <tr>\n",
              "      <th>4</th>\n",
              "      <td>اين وضع ب طرز خنده داري گريه داره ...</td>\n",
              "      <td>SAD</td>\n",
              "      <td>طرز خنده گریه</td>\n",
              "      <td>اين وضع ب طرز خنده داري گريه داره ...</td>\n",
              "    </tr>\n",
              "  </tbody>\n",
              "</table>\n",
              "</div>\n",
              "      <button class=\"colab-df-convert\" onclick=\"convertToInteractive('df-03cef130-011f-419a-a430-05ff4907b0c6')\"\n",
              "              title=\"Convert this dataframe to an interactive table.\"\n",
              "              style=\"display:none;\">\n",
              "        \n",
              "  <svg xmlns=\"http://www.w3.org/2000/svg\" height=\"24px\"viewBox=\"0 0 24 24\"\n",
              "       width=\"24px\">\n",
              "    <path d=\"M0 0h24v24H0V0z\" fill=\"none\"/>\n",
              "    <path d=\"M18.56 5.44l.94 2.06.94-2.06 2.06-.94-2.06-.94-.94-2.06-.94 2.06-2.06.94zm-11 1L8.5 8.5l.94-2.06 2.06-.94-2.06-.94L8.5 2.5l-.94 2.06-2.06.94zm10 10l.94 2.06.94-2.06 2.06-.94-2.06-.94-.94-2.06-.94 2.06-2.06.94z\"/><path d=\"M17.41 7.96l-1.37-1.37c-.4-.4-.92-.59-1.43-.59-.52 0-1.04.2-1.43.59L10.3 9.45l-7.72 7.72c-.78.78-.78 2.05 0 2.83L4 21.41c.39.39.9.59 1.41.59.51 0 1.02-.2 1.41-.59l7.78-7.78 2.81-2.81c.8-.78.8-2.07 0-2.86zM5.41 20L4 18.59l7.72-7.72 1.47 1.35L5.41 20z\"/>\n",
              "  </svg>\n",
              "      </button>\n",
              "      \n",
              "  <style>\n",
              "    .colab-df-container {\n",
              "      display:flex;\n",
              "      flex-wrap:wrap;\n",
              "      gap: 12px;\n",
              "    }\n",
              "\n",
              "    .colab-df-convert {\n",
              "      background-color: #E8F0FE;\n",
              "      border: none;\n",
              "      border-radius: 50%;\n",
              "      cursor: pointer;\n",
              "      display: none;\n",
              "      fill: #1967D2;\n",
              "      height: 32px;\n",
              "      padding: 0 0 0 0;\n",
              "      width: 32px;\n",
              "    }\n",
              "\n",
              "    .colab-df-convert:hover {\n",
              "      background-color: #E2EBFA;\n",
              "      box-shadow: 0px 1px 2px rgba(60, 64, 67, 0.3), 0px 1px 3px 1px rgba(60, 64, 67, 0.15);\n",
              "      fill: #174EA6;\n",
              "    }\n",
              "\n",
              "    [theme=dark] .colab-df-convert {\n",
              "      background-color: #3B4455;\n",
              "      fill: #D2E3FC;\n",
              "    }\n",
              "\n",
              "    [theme=dark] .colab-df-convert:hover {\n",
              "      background-color: #434B5C;\n",
              "      box-shadow: 0px 1px 3px 1px rgba(0, 0, 0, 0.15);\n",
              "      filter: drop-shadow(0px 1px 2px rgba(0, 0, 0, 0.3));\n",
              "      fill: #FFFFFF;\n",
              "    }\n",
              "  </style>\n",
              "\n",
              "      <script>\n",
              "        const buttonEl =\n",
              "          document.querySelector('#df-03cef130-011f-419a-a430-05ff4907b0c6 button.colab-df-convert');\n",
              "        buttonEl.style.display =\n",
              "          google.colab.kernel.accessAllowed ? 'block' : 'none';\n",
              "\n",
              "        async function convertToInteractive(key) {\n",
              "          const element = document.querySelector('#df-03cef130-011f-419a-a430-05ff4907b0c6');\n",
              "          const dataTable =\n",
              "            await google.colab.kernel.invokeFunction('convertToInteractive',\n",
              "                                                     [key], {});\n",
              "          if (!dataTable) return;\n",
              "\n",
              "          const docLinkHtml = 'Like what you see? Visit the ' +\n",
              "            '<a target=\"_blank\" href=https://colab.research.google.com/notebooks/data_table.ipynb>data table notebook</a>'\n",
              "            + ' to learn more about interactive tables.';\n",
              "          element.innerHTML = '';\n",
              "          dataTable['output_type'] = 'display_data';\n",
              "          await google.colab.output.renderOutput(dataTable, element);\n",
              "          const docLink = document.createElement('div');\n",
              "          docLink.innerHTML = docLinkHtml;\n",
              "          element.appendChild(docLink);\n",
              "        }\n",
              "      </script>\n",
              "    </div>\n",
              "  </div>\n",
              "  "
            ],
            "text/plain": [
              "                                                text  label  \\\n",
              "0  خیلی کوچیک هستن و سایزشون بدرد نمیخوره میخوام ...    SAD   \n",
              "1     از صدای پرنده دم دمای صبح متنفرم متنفرم متنفرم   HATE   \n",
              "2   \"کیفیتش خیلی خوبه با شک خریدم ولی واقعا راضیم...    SAD   \n",
              "3  چون همش با دوربین ثبت شده ، ایا میشه اعتراض زد...  OTHER   \n",
              "4              اين وضع ب طرز خنده داري گريه داره ...    SAD   \n",
              "\n",
              "                                             cleaned  \\\n",
              "0         کوچیک هستن سایزشون بدرد نمیخوره میخوام بدم   \n",
              "1           صدای پرنده دمای صبح متنفرم متنفرم متنفرم   \n",
              "2   کیفیتش خوبه شک خریدم واقعا راضیم حدود ماه متا...   \n",
              "3   همش دوربین ثبت ایا اعتراض زد اصن تاثیر اطلاعی...   \n",
              "4                                      طرز خنده گریه   \n",
              "\n",
              "                                             stemmed  \n",
              "0  خیلی کوچیک هستن و سایزشون بدرد نمیخوره میخوام ...  \n",
              "1     از صدای پرنده دم دمای صبح متنفرم متنفرم متنفرم  \n",
              "2   \"کیفیتش خیلی خوبه با شک خریدم ولی واقعا راضیم...  \n",
              "3  چون همش با دوربین ثبت شده ، ایا میشه اعتراض زد...  \n",
              "4              اين وضع ب طرز خنده داري گريه داره ...  "
            ]
          },
          "execution_count": 4,
          "metadata": {},
          "output_type": "execute_result"
        }
      ],
      "source": [
        "df_train.head()"
      ]
    },
    {
      "cell_type": "code",
      "execution_count": 5,
      "metadata": {
        "colab": {
          "base_uri": "https://localhost:8080/",
          "height": 206
        },
        "id": "kuUJ_1BRLQuD",
        "outputId": "d87d3eb8-23dc-4da4-e82b-7ed11a3add04"
      },
      "outputs": [
        {
          "data": {
            "text/html": [
              "\n",
              "  <div id=\"df-9ad3d1c9-fefc-4151-95cd-da75b70a699f\">\n",
              "    <div class=\"colab-df-container\">\n",
              "      <div>\n",
              "<style scoped>\n",
              "    .dataframe tbody tr th:only-of-type {\n",
              "        vertical-align: middle;\n",
              "    }\n",
              "\n",
              "    .dataframe tbody tr th {\n",
              "        vertical-align: top;\n",
              "    }\n",
              "\n",
              "    .dataframe thead th {\n",
              "        text-align: right;\n",
              "    }\n",
              "</style>\n",
              "<table border=\"1\" class=\"dataframe\">\n",
              "  <thead>\n",
              "    <tr style=\"text-align: right;\">\n",
              "      <th></th>\n",
              "      <th>text</th>\n",
              "      <th>label</th>\n",
              "      <th>cleaned</th>\n",
              "      <th>stemmed</th>\n",
              "    </tr>\n",
              "  </thead>\n",
              "  <tbody>\n",
              "    <tr>\n",
              "      <th>6120</th>\n",
              "      <td>مرحوم پیش بینی آبکی زیاد میکرد     مرحوم عجب آ...</td>\n",
              "      <td>SURPRISE</td>\n",
              "      <td>مرحوم بینی آبکی زیاد میکرد مرحوم عجب آینده نگ...</td>\n",
              "      <td>مرحوم پیش بینی آبکی زیاد میکرد     مرحوم عجب آ...</td>\n",
              "    </tr>\n",
              "    <tr>\n",
              "      <th>6121</th>\n",
              "      <td>کلا عین اعتقادات و توئیت زدناتون ... !!   در ق...</td>\n",
              "      <td>ANGRY</td>\n",
              "      <td>کلا عین اعتقادات توییت زدناتون قبال رانت نون ...</td>\n",
              "      <td>کلا عین اعتقادات و توئیت زدناتون ... !!   در ق...</td>\n",
              "    </tr>\n",
              "    <tr>\n",
              "      <th>6122</th>\n",
              "      <td>خب وقتی میگی کسی بیاد مارو بگیره یارو ترس میکن...</td>\n",
              "      <td>FEAR</td>\n",
              "      <td>میگی بیاد مارو بگیره یارو ترس یکم دوست حاله‌ا...</td>\n",
              "      <td>خب وقتی میگی کسی بیاد مارو بگیره یارو ترس میکن...</td>\n",
              "    </tr>\n",
              "    <tr>\n",
              "      <th>6123</th>\n",
              "      <td>همون هارو     مگه آهنگ جدیدای خواننده‌های دهه ...</td>\n",
              "      <td>SURPRISE</td>\n",
              "      <td>همون هارو آهنگ جدیدای خواننده‌های دهه پنجاه گ...</td>\n",
              "      <td>همون هارو     مگه آهنگ جدیدای خواننده‌های دهه ...</td>\n",
              "    </tr>\n",
              "    <tr>\n",
              "      <th>6124</th>\n",
              "      <td>نیم دگیرش چطور حل نیشد</td>\n",
              "      <td>OTHER</td>\n",
              "      <td>نیم دگیرش حل نیشد</td>\n",
              "      <td>نیم دگیرش چطور حل نیشد</td>\n",
              "    </tr>\n",
              "  </tbody>\n",
              "</table>\n",
              "</div>\n",
              "      <button class=\"colab-df-convert\" onclick=\"convertToInteractive('df-9ad3d1c9-fefc-4151-95cd-da75b70a699f')\"\n",
              "              title=\"Convert this dataframe to an interactive table.\"\n",
              "              style=\"display:none;\">\n",
              "        \n",
              "  <svg xmlns=\"http://www.w3.org/2000/svg\" height=\"24px\"viewBox=\"0 0 24 24\"\n",
              "       width=\"24px\">\n",
              "    <path d=\"M0 0h24v24H0V0z\" fill=\"none\"/>\n",
              "    <path d=\"M18.56 5.44l.94 2.06.94-2.06 2.06-.94-2.06-.94-.94-2.06-.94 2.06-2.06.94zm-11 1L8.5 8.5l.94-2.06 2.06-.94-2.06-.94L8.5 2.5l-.94 2.06-2.06.94zm10 10l.94 2.06.94-2.06 2.06-.94-2.06-.94-.94-2.06-.94 2.06-2.06.94z\"/><path d=\"M17.41 7.96l-1.37-1.37c-.4-.4-.92-.59-1.43-.59-.52 0-1.04.2-1.43.59L10.3 9.45l-7.72 7.72c-.78.78-.78 2.05 0 2.83L4 21.41c.39.39.9.59 1.41.59.51 0 1.02-.2 1.41-.59l7.78-7.78 2.81-2.81c.8-.78.8-2.07 0-2.86zM5.41 20L4 18.59l7.72-7.72 1.47 1.35L5.41 20z\"/>\n",
              "  </svg>\n",
              "      </button>\n",
              "      \n",
              "  <style>\n",
              "    .colab-df-container {\n",
              "      display:flex;\n",
              "      flex-wrap:wrap;\n",
              "      gap: 12px;\n",
              "    }\n",
              "\n",
              "    .colab-df-convert {\n",
              "      background-color: #E8F0FE;\n",
              "      border: none;\n",
              "      border-radius: 50%;\n",
              "      cursor: pointer;\n",
              "      display: none;\n",
              "      fill: #1967D2;\n",
              "      height: 32px;\n",
              "      padding: 0 0 0 0;\n",
              "      width: 32px;\n",
              "    }\n",
              "\n",
              "    .colab-df-convert:hover {\n",
              "      background-color: #E2EBFA;\n",
              "      box-shadow: 0px 1px 2px rgba(60, 64, 67, 0.3), 0px 1px 3px 1px rgba(60, 64, 67, 0.15);\n",
              "      fill: #174EA6;\n",
              "    }\n",
              "\n",
              "    [theme=dark] .colab-df-convert {\n",
              "      background-color: #3B4455;\n",
              "      fill: #D2E3FC;\n",
              "    }\n",
              "\n",
              "    [theme=dark] .colab-df-convert:hover {\n",
              "      background-color: #434B5C;\n",
              "      box-shadow: 0px 1px 3px 1px rgba(0, 0, 0, 0.15);\n",
              "      filter: drop-shadow(0px 1px 2px rgba(0, 0, 0, 0.3));\n",
              "      fill: #FFFFFF;\n",
              "    }\n",
              "  </style>\n",
              "\n",
              "      <script>\n",
              "        const buttonEl =\n",
              "          document.querySelector('#df-9ad3d1c9-fefc-4151-95cd-da75b70a699f button.colab-df-convert');\n",
              "        buttonEl.style.display =\n",
              "          google.colab.kernel.accessAllowed ? 'block' : 'none';\n",
              "\n",
              "        async function convertToInteractive(key) {\n",
              "          const element = document.querySelector('#df-9ad3d1c9-fefc-4151-95cd-da75b70a699f');\n",
              "          const dataTable =\n",
              "            await google.colab.kernel.invokeFunction('convertToInteractive',\n",
              "                                                     [key], {});\n",
              "          if (!dataTable) return;\n",
              "\n",
              "          const docLinkHtml = 'Like what you see? Visit the ' +\n",
              "            '<a target=\"_blank\" href=https://colab.research.google.com/notebooks/data_table.ipynb>data table notebook</a>'\n",
              "            + ' to learn more about interactive tables.';\n",
              "          element.innerHTML = '';\n",
              "          dataTable['output_type'] = 'display_data';\n",
              "          await google.colab.output.renderOutput(dataTable, element);\n",
              "          const docLink = document.createElement('div');\n",
              "          docLink.innerHTML = docLinkHtml;\n",
              "          element.appendChild(docLink);\n",
              "        }\n",
              "      </script>\n",
              "    </div>\n",
              "  </div>\n",
              "  "
            ],
            "text/plain": [
              "                                                   text     label  \\\n",
              "6120  مرحوم پیش بینی آبکی زیاد میکرد     مرحوم عجب آ...  SURPRISE   \n",
              "6121  کلا عین اعتقادات و توئیت زدناتون ... !!   در ق...     ANGRY   \n",
              "6122  خب وقتی میگی کسی بیاد مارو بگیره یارو ترس میکن...      FEAR   \n",
              "6123  همون هارو     مگه آهنگ جدیدای خواننده‌های دهه ...  SURPRISE   \n",
              "6124                            نیم دگیرش چطور حل نیشد      OTHER   \n",
              "\n",
              "                                                cleaned  \\\n",
              "6120   مرحوم بینی آبکی زیاد میکرد مرحوم عجب آینده نگ...   \n",
              "6121   کلا عین اعتقادات توییت زدناتون قبال رانت نون ...   \n",
              "6122   میگی بیاد مارو بگیره یارو ترس یکم دوست حاله‌ا...   \n",
              "6123   همون هارو آهنگ جدیدای خواننده‌های دهه پنجاه گ...   \n",
              "6124                                  نیم دگیرش حل نیشد   \n",
              "\n",
              "                                                stemmed  \n",
              "6120  مرحوم پیش بینی آبکی زیاد میکرد     مرحوم عجب آ...  \n",
              "6121  کلا عین اعتقادات و توئیت زدناتون ... !!   در ق...  \n",
              "6122  خب وقتی میگی کسی بیاد مارو بگیره یارو ترس میکن...  \n",
              "6123  همون هارو     مگه آهنگ جدیدای خواننده‌های دهه ...  \n",
              "6124                            نیم دگیرش چطور حل نیشد   "
            ]
          },
          "execution_count": 5,
          "metadata": {},
          "output_type": "execute_result"
        }
      ],
      "source": [
        "df_train.tail()"
      ]
    },
    {
      "cell_type": "code",
      "execution_count": 6,
      "metadata": {
        "colab": {
          "base_uri": "https://localhost:8080/"
        },
        "id": "6_FgdJvkLRsA",
        "outputId": "0e11354f-90a6-4a78-ed42-108062447cdb"
      },
      "outputs": [
        {
          "name": "stdout",
          "output_type": "stream",
          "text": [
            "<class 'pandas.core.frame.DataFrame'>\n",
            "RangeIndex: 6125 entries, 0 to 6124\n",
            "Data columns (total 4 columns):\n",
            " #   Column   Non-Null Count  Dtype \n",
            "---  ------   --------------  ----- \n",
            " 0   text     6125 non-null   object\n",
            " 1   label    6125 non-null   object\n",
            " 2   cleaned  6074 non-null   object\n",
            " 3   stemmed  6125 non-null   object\n",
            "dtypes: object(4)\n",
            "memory usage: 191.5+ KB\n"
          ]
        }
      ],
      "source": [
        "df_train.info()"
      ]
    },
    {
      "cell_type": "code",
      "execution_count": 7,
      "metadata": {
        "colab": {
          "base_uri": "https://localhost:8080/",
          "height": 1000
        },
        "id": "B30hHqNcTA2Q",
        "outputId": "5d529c0e-bcf2-4f9e-a0f1-78e7f68f747b"
      },
      "outputs": [
        {
          "data": {
            "text/html": [
              "\n",
              "  <div id=\"df-826d3d06-5920-43a9-ab90-d5f3fdda7f4a\">\n",
              "    <div class=\"colab-df-container\">\n",
              "      <div>\n",
              "<style scoped>\n",
              "    .dataframe tbody tr th:only-of-type {\n",
              "        vertical-align: middle;\n",
              "    }\n",
              "\n",
              "    .dataframe tbody tr th {\n",
              "        vertical-align: top;\n",
              "    }\n",
              "\n",
              "    .dataframe thead th {\n",
              "        text-align: right;\n",
              "    }\n",
              "</style>\n",
              "<table border=\"1\" class=\"dataframe\">\n",
              "  <thead>\n",
              "    <tr style=\"text-align: right;\">\n",
              "      <th></th>\n",
              "      <th>text</th>\n",
              "      <th>label</th>\n",
              "      <th>cleaned</th>\n",
              "      <th>stemmed</th>\n",
              "    </tr>\n",
              "  </thead>\n",
              "  <tbody>\n",
              "    <tr>\n",
              "      <th>3764</th>\n",
              "      <td>به کی؟؟؟</td>\n",
              "      <td>OTHER</td>\n",
              "      <td>NaN</td>\n",
              "      <td>به کی؟؟؟</td>\n",
              "    </tr>\n",
              "    <tr>\n",
              "      <th>3772</th>\n",
              "      <td>آخ گفتی</td>\n",
              "      <td>OTHER</td>\n",
              "      <td>NaN</td>\n",
              "      <td>آخ گفتی</td>\n",
              "    </tr>\n",
              "    <tr>\n",
              "      <th>3875</th>\n",
              "      <td>فوق چی؟</td>\n",
              "      <td>OTHER</td>\n",
              "      <td>NaN</td>\n",
              "      <td>فوق چی؟</td>\n",
              "    </tr>\n",
              "    <tr>\n",
              "      <th>3902</th>\n",
              "      <td>به به</td>\n",
              "      <td>HAPPY</td>\n",
              "      <td>NaN</td>\n",
              "      <td>به به</td>\n",
              "    </tr>\n",
              "    <tr>\n",
              "      <th>3912</th>\n",
              "      <td>ما کی هستیم؟؟؟چی هستیم؟؟؟</td>\n",
              "      <td>OTHER</td>\n",
              "      <td>NaN</td>\n",
              "      <td>ما کی هستیم؟؟؟چی هستیم؟؟؟</td>\n",
              "    </tr>\n",
              "    <tr>\n",
              "      <th>3942</th>\n",
              "      <td>چی چند؟</td>\n",
              "      <td>OTHER</td>\n",
              "      <td>NaN</td>\n",
              "      <td>چی چند؟</td>\n",
              "    </tr>\n",
              "    <tr>\n",
              "      <th>3958</th>\n",
              "      <td>من هستم</td>\n",
              "      <td>OTHER</td>\n",
              "      <td>NaN</td>\n",
              "      <td>من هستم</td>\n",
              "    </tr>\n",
              "    <tr>\n",
              "      <th>3968</th>\n",
              "      <td>برای چی؟</td>\n",
              "      <td>SURPRISE</td>\n",
              "      <td>NaN</td>\n",
              "      <td>برای چی؟</td>\n",
              "    </tr>\n",
              "    <tr>\n",
              "      <th>4087</th>\n",
              "      <td>مگه الان نیستیم؟!</td>\n",
              "      <td>SURPRISE</td>\n",
              "      <td>NaN</td>\n",
              "      <td>مگه الان نیستیم؟!</td>\n",
              "    </tr>\n",
              "    <tr>\n",
              "      <th>4171</th>\n",
              "      <td>آخ گفتی</td>\n",
              "      <td>OTHER</td>\n",
              "      <td>NaN</td>\n",
              "      <td>آخ گفتی</td>\n",
              "    </tr>\n",
              "    <tr>\n",
              "      <th>4191</th>\n",
              "      <td>میاد میاد</td>\n",
              "      <td>OTHER</td>\n",
              "      <td>NaN</td>\n",
              "      <td>میاد میاد</td>\n",
              "    </tr>\n",
              "    <tr>\n",
              "      <th>4222</th>\n",
              "      <td>چرا؟!</td>\n",
              "      <td>SURPRISE</td>\n",
              "      <td>NaN</td>\n",
              "      <td>چرا؟!</td>\n",
              "    </tr>\n",
              "    <tr>\n",
              "      <th>4305</th>\n",
              "      <td>نه دیگه</td>\n",
              "      <td>OTHER</td>\n",
              "      <td>NaN</td>\n",
              "      <td>نه دیگه</td>\n",
              "    </tr>\n",
              "    <tr>\n",
              "      <th>4389</th>\n",
              "      <td>چرا؟</td>\n",
              "      <td>SURPRISE</td>\n",
              "      <td>NaN</td>\n",
              "      <td>چرا؟</td>\n",
              "    </tr>\n",
              "    <tr>\n",
              "      <th>4565</th>\n",
              "      <td>آخ گفتی</td>\n",
              "      <td>OTHER</td>\n",
              "      <td>NaN</td>\n",
              "      <td>آخ گفتی</td>\n",
              "    </tr>\n",
              "    <tr>\n",
              "      <th>4676</th>\n",
              "      <td>مرسی</td>\n",
              "      <td>HAPPY</td>\n",
              "      <td>NaN</td>\n",
              "      <td>مرسی</td>\n",
              "    </tr>\n",
              "    <tr>\n",
              "      <th>4839</th>\n",
              "      <td>مرسی هستی اصلا</td>\n",
              "      <td>HAPPY</td>\n",
              "      <td>NaN</td>\n",
              "      <td>مرسی هستی اصلا</td>\n",
              "    </tr>\n",
              "    <tr>\n",
              "      <th>4872</th>\n",
              "      <td>چی؟</td>\n",
              "      <td>SURPRISE</td>\n",
              "      <td>NaN</td>\n",
              "      <td>چی؟</td>\n",
              "    </tr>\n",
              "    <tr>\n",
              "      <th>4875</th>\n",
              "      <td>آخ گفتی</td>\n",
              "      <td>OTHER</td>\n",
              "      <td>NaN</td>\n",
              "      <td>آخ گفتی</td>\n",
              "    </tr>\n",
              "    <tr>\n",
              "      <th>4878</th>\n",
              "      <td>چرا خب</td>\n",
              "      <td>SURPRISE</td>\n",
              "      <td>NaN</td>\n",
              "      <td>چرا خب</td>\n",
              "    </tr>\n",
              "    <tr>\n",
              "      <th>4898</th>\n",
              "      <td>ای وااای</td>\n",
              "      <td>OTHER</td>\n",
              "      <td>NaN</td>\n",
              "      <td>ای وااای</td>\n",
              "    </tr>\n",
              "    <tr>\n",
              "      <th>4950</th>\n",
              "      <td>آخ گفتی</td>\n",
              "      <td>OTHER</td>\n",
              "      <td>NaN</td>\n",
              "      <td>آخ گفتی</td>\n",
              "    </tr>\n",
              "    <tr>\n",
              "      <th>4954</th>\n",
              "      <td>مگه داریم ؟</td>\n",
              "      <td>SURPRISE</td>\n",
              "      <td>NaN</td>\n",
              "      <td>مگه داریم ؟</td>\n",
              "    </tr>\n",
              "    <tr>\n",
              "      <th>4966</th>\n",
              "      <td>چرا؟</td>\n",
              "      <td>SURPRISE</td>\n",
              "      <td>NaN</td>\n",
              "      <td>چرا؟</td>\n",
              "    </tr>\n",
              "    <tr>\n",
              "      <th>4972</th>\n",
              "      <td>مرسی</td>\n",
              "      <td>HAPPY</td>\n",
              "      <td>NaN</td>\n",
              "      <td>مرسی</td>\n",
              "    </tr>\n",
              "    <tr>\n",
              "      <th>5076</th>\n",
              "      <td>چرا؟؟</td>\n",
              "      <td>SURPRISE</td>\n",
              "      <td>NaN</td>\n",
              "      <td>چرا؟؟</td>\n",
              "    </tr>\n",
              "    <tr>\n",
              "      <th>5094</th>\n",
              "      <td>ای گفتی</td>\n",
              "      <td>OTHER</td>\n",
              "      <td>NaN</td>\n",
              "      <td>ای گفتی</td>\n",
              "    </tr>\n",
              "    <tr>\n",
              "      <th>5095</th>\n",
              "      <td>مرسی</td>\n",
              "      <td>HAPPY</td>\n",
              "      <td>NaN</td>\n",
              "      <td>مرسی</td>\n",
              "    </tr>\n",
              "    <tr>\n",
              "      <th>5097</th>\n",
              "      <td>وای مرسی مرسی</td>\n",
              "      <td>HAPPY</td>\n",
              "      <td>NaN</td>\n",
              "      <td>وای مرسی مرسی</td>\n",
              "    </tr>\n",
              "    <tr>\n",
              "      <th>5149</th>\n",
              "      <td>چرا خب؟</td>\n",
              "      <td>SURPRISE</td>\n",
              "      <td>NaN</td>\n",
              "      <td>چرا خب؟</td>\n",
              "    </tr>\n",
              "    <tr>\n",
              "      <th>5228</th>\n",
              "      <td>آخ گفتی</td>\n",
              "      <td>OTHER</td>\n",
              "      <td>NaN</td>\n",
              "      <td>آخ گفتی</td>\n",
              "    </tr>\n",
              "    <tr>\n",
              "      <th>5273</th>\n",
              "      <td>گفتی</td>\n",
              "      <td>OTHER</td>\n",
              "      <td>NaN</td>\n",
              "      <td>گفتی</td>\n",
              "    </tr>\n",
              "    <tr>\n",
              "      <th>5367</th>\n",
              "      <td>چرا؟</td>\n",
              "      <td>SURPRISE</td>\n",
              "      <td>NaN</td>\n",
              "      <td>چرا؟</td>\n",
              "    </tr>\n",
              "    <tr>\n",
              "      <th>5382</th>\n",
              "      <td>باشد</td>\n",
              "      <td>OTHER</td>\n",
              "      <td>NaN</td>\n",
              "      <td>باشد</td>\n",
              "    </tr>\n",
              "    <tr>\n",
              "      <th>5413</th>\n",
              "      <td>چرا !؟</td>\n",
              "      <td>SURPRISE</td>\n",
              "      <td>NaN</td>\n",
              "      <td>چرا !؟</td>\n",
              "    </tr>\n",
              "    <tr>\n",
              "      <th>5436</th>\n",
              "      <td>اصلا مگه داریم؟</td>\n",
              "      <td>SURPRISE</td>\n",
              "      <td>NaN</td>\n",
              "      <td>اصلا مگه داریم؟</td>\n",
              "    </tr>\n",
              "    <tr>\n",
              "      <th>5494</th>\n",
              "      <td>گفتم</td>\n",
              "      <td>OTHER</td>\n",
              "      <td>NaN</td>\n",
              "      <td>گفتم</td>\n",
              "    </tr>\n",
              "    <tr>\n",
              "      <th>5515</th>\n",
              "      <td>داریم مگه؟</td>\n",
              "      <td>SURPRISE</td>\n",
              "      <td>NaN</td>\n",
              "      <td>داریم مگه؟</td>\n",
              "    </tr>\n",
              "    <tr>\n",
              "      <th>5523</th>\n",
              "      <td>کی؟</td>\n",
              "      <td>SURPRISE</td>\n",
              "      <td>NaN</td>\n",
              "      <td>کی؟</td>\n",
              "    </tr>\n",
              "    <tr>\n",
              "      <th>5537</th>\n",
              "      <td>وااااای  کجا؟؟؟؟</td>\n",
              "      <td>FEAR</td>\n",
              "      <td>NaN</td>\n",
              "      <td>وااااای  کجا؟؟؟؟</td>\n",
              "    </tr>\n",
              "    <tr>\n",
              "      <th>5582</th>\n",
              "      <td>آره آره</td>\n",
              "      <td>HAPPY</td>\n",
              "      <td>NaN</td>\n",
              "      <td>آره آره</td>\n",
              "    </tr>\n",
              "    <tr>\n",
              "      <th>5654</th>\n",
              "      <td>چی هست؟؟</td>\n",
              "      <td>OTHER</td>\n",
              "      <td>NaN</td>\n",
              "      <td>چی هست؟؟</td>\n",
              "    </tr>\n",
              "    <tr>\n",
              "      <th>5721</th>\n",
              "      <td>همین الان دیگه</td>\n",
              "      <td>OTHER</td>\n",
              "      <td>NaN</td>\n",
              "      <td>همین الان دیگه</td>\n",
              "    </tr>\n",
              "    <tr>\n",
              "      <th>5734</th>\n",
              "      <td>یعنی چی ؟</td>\n",
              "      <td>SURPRISE</td>\n",
              "      <td>NaN</td>\n",
              "      <td>یعنی چی ؟</td>\n",
              "    </tr>\n",
              "    <tr>\n",
              "      <th>5803</th>\n",
              "      <td>مرسی</td>\n",
              "      <td>HAPPY</td>\n",
              "      <td>NaN</td>\n",
              "      <td>مرسی</td>\n",
              "    </tr>\n",
              "    <tr>\n",
              "      <th>5846</th>\n",
              "      <td>چرررا</td>\n",
              "      <td>SURPRISE</td>\n",
              "      <td>NaN</td>\n",
              "      <td>چرررا</td>\n",
              "    </tr>\n",
              "    <tr>\n",
              "      <th>5872</th>\n",
              "      <td>کجا؟!!!!!!!</td>\n",
              "      <td>SURPRISE</td>\n",
              "      <td>NaN</td>\n",
              "      <td>کجا؟!!!!!!!</td>\n",
              "    </tr>\n",
              "    <tr>\n",
              "      <th>5958</th>\n",
              "      <td>چی؟</td>\n",
              "      <td>SURPRISE</td>\n",
              "      <td>NaN</td>\n",
              "      <td>چی؟</td>\n",
              "    </tr>\n",
              "    <tr>\n",
              "      <th>6017</th>\n",
              "      <td>آخ گفتی</td>\n",
              "      <td>OTHER</td>\n",
              "      <td>NaN</td>\n",
              "      <td>آخ گفتی</td>\n",
              "    </tr>\n",
              "    <tr>\n",
              "      <th>6021</th>\n",
              "      <td>این  https://t.co/M6bPwDByhT</td>\n",
              "      <td>OTHER</td>\n",
              "      <td>NaN</td>\n",
              "      <td>این  https://t.co/M6bPwDByhT</td>\n",
              "    </tr>\n",
              "    <tr>\n",
              "      <th>6057</th>\n",
              "      <td>مممرسیییییی</td>\n",
              "      <td>HAPPY</td>\n",
              "      <td>NaN</td>\n",
              "      <td>مممرسیییییی</td>\n",
              "    </tr>\n",
              "  </tbody>\n",
              "</table>\n",
              "</div>\n",
              "      <button class=\"colab-df-convert\" onclick=\"convertToInteractive('df-826d3d06-5920-43a9-ab90-d5f3fdda7f4a')\"\n",
              "              title=\"Convert this dataframe to an interactive table.\"\n",
              "              style=\"display:none;\">\n",
              "        \n",
              "  <svg xmlns=\"http://www.w3.org/2000/svg\" height=\"24px\"viewBox=\"0 0 24 24\"\n",
              "       width=\"24px\">\n",
              "    <path d=\"M0 0h24v24H0V0z\" fill=\"none\"/>\n",
              "    <path d=\"M18.56 5.44l.94 2.06.94-2.06 2.06-.94-2.06-.94-.94-2.06-.94 2.06-2.06.94zm-11 1L8.5 8.5l.94-2.06 2.06-.94-2.06-.94L8.5 2.5l-.94 2.06-2.06.94zm10 10l.94 2.06.94-2.06 2.06-.94-2.06-.94-.94-2.06-.94 2.06-2.06.94z\"/><path d=\"M17.41 7.96l-1.37-1.37c-.4-.4-.92-.59-1.43-.59-.52 0-1.04.2-1.43.59L10.3 9.45l-7.72 7.72c-.78.78-.78 2.05 0 2.83L4 21.41c.39.39.9.59 1.41.59.51 0 1.02-.2 1.41-.59l7.78-7.78 2.81-2.81c.8-.78.8-2.07 0-2.86zM5.41 20L4 18.59l7.72-7.72 1.47 1.35L5.41 20z\"/>\n",
              "  </svg>\n",
              "      </button>\n",
              "      \n",
              "  <style>\n",
              "    .colab-df-container {\n",
              "      display:flex;\n",
              "      flex-wrap:wrap;\n",
              "      gap: 12px;\n",
              "    }\n",
              "\n",
              "    .colab-df-convert {\n",
              "      background-color: #E8F0FE;\n",
              "      border: none;\n",
              "      border-radius: 50%;\n",
              "      cursor: pointer;\n",
              "      display: none;\n",
              "      fill: #1967D2;\n",
              "      height: 32px;\n",
              "      padding: 0 0 0 0;\n",
              "      width: 32px;\n",
              "    }\n",
              "\n",
              "    .colab-df-convert:hover {\n",
              "      background-color: #E2EBFA;\n",
              "      box-shadow: 0px 1px 2px rgba(60, 64, 67, 0.3), 0px 1px 3px 1px rgba(60, 64, 67, 0.15);\n",
              "      fill: #174EA6;\n",
              "    }\n",
              "\n",
              "    [theme=dark] .colab-df-convert {\n",
              "      background-color: #3B4455;\n",
              "      fill: #D2E3FC;\n",
              "    }\n",
              "\n",
              "    [theme=dark] .colab-df-convert:hover {\n",
              "      background-color: #434B5C;\n",
              "      box-shadow: 0px 1px 3px 1px rgba(0, 0, 0, 0.15);\n",
              "      filter: drop-shadow(0px 1px 2px rgba(0, 0, 0, 0.3));\n",
              "      fill: #FFFFFF;\n",
              "    }\n",
              "  </style>\n",
              "\n",
              "      <script>\n",
              "        const buttonEl =\n",
              "          document.querySelector('#df-826d3d06-5920-43a9-ab90-d5f3fdda7f4a button.colab-df-convert');\n",
              "        buttonEl.style.display =\n",
              "          google.colab.kernel.accessAllowed ? 'block' : 'none';\n",
              "\n",
              "        async function convertToInteractive(key) {\n",
              "          const element = document.querySelector('#df-826d3d06-5920-43a9-ab90-d5f3fdda7f4a');\n",
              "          const dataTable =\n",
              "            await google.colab.kernel.invokeFunction('convertToInteractive',\n",
              "                                                     [key], {});\n",
              "          if (!dataTable) return;\n",
              "\n",
              "          const docLinkHtml = 'Like what you see? Visit the ' +\n",
              "            '<a target=\"_blank\" href=https://colab.research.google.com/notebooks/data_table.ipynb>data table notebook</a>'\n",
              "            + ' to learn more about interactive tables.';\n",
              "          element.innerHTML = '';\n",
              "          dataTable['output_type'] = 'display_data';\n",
              "          await google.colab.output.renderOutput(dataTable, element);\n",
              "          const docLink = document.createElement('div');\n",
              "          docLink.innerHTML = docLinkHtml;\n",
              "          element.appendChild(docLink);\n",
              "        }\n",
              "      </script>\n",
              "    </div>\n",
              "  </div>\n",
              "  "
            ],
            "text/plain": [
              "                              text     label cleaned  \\\n",
              "3764                     به کی؟؟؟      OTHER     NaN   \n",
              "3772                     آخ گفتی       OTHER     NaN   \n",
              "3875                     فوق چی؟       OTHER     NaN   \n",
              "3902                        به به      HAPPY     NaN   \n",
              "3912    ما کی هستیم؟؟؟چی هستیم؟؟؟      OTHER     NaN   \n",
              "3942                     چی چند؟       OTHER     NaN   \n",
              "3958                       من هستم     OTHER     NaN   \n",
              "3968                      برای چی؟  SURPRISE     NaN   \n",
              "4087            مگه الان نیستیم؟!   SURPRISE     NaN   \n",
              "4171                      آخ گفتی      OTHER     NaN   \n",
              "4191                    میاد میاد      OTHER     NaN   \n",
              "4222                        چرا؟!   SURPRISE     NaN   \n",
              "4305                      نه دیگه      OTHER     NaN   \n",
              "4389                         چرا؟   SURPRISE     NaN   \n",
              "4565                      آخ گفتی      OTHER     NaN   \n",
              "4676                        مرسی       HAPPY     NaN   \n",
              "4839              مرسی هستی اصلا       HAPPY     NaN   \n",
              "4872                          چی؟   SURPRISE     NaN   \n",
              "4875                     آخ گفتی       OTHER     NaN   \n",
              "4878                       چرا خب   SURPRISE     NaN   \n",
              "4898                    ای وااای       OTHER     NaN   \n",
              "4950                     آخ گفتی       OTHER     NaN   \n",
              "4954                   مگه داریم ؟  SURPRISE     NaN   \n",
              "4966                         چرا؟   SURPRISE     NaN   \n",
              "4972                        مرسی       HAPPY     NaN   \n",
              "5076                        چرا؟؟   SURPRISE     NaN   \n",
              "5094                      ای گفتی      OTHER     NaN   \n",
              "5095                         مرسی      HAPPY     NaN   \n",
              "5097               وای مرسی مرسی       HAPPY     NaN   \n",
              "5149                      چرا خب؟   SURPRISE     NaN   \n",
              "5228                     آخ گفتی       OTHER     NaN   \n",
              "5273                         گفتی      OTHER     NaN   \n",
              "5367                         چرا؟   SURPRISE     NaN   \n",
              "5382                         باشد      OTHER     NaN   \n",
              "5413                        چرا !؟  SURPRISE     NaN   \n",
              "5436             اصلا مگه داریم؟    SURPRISE     NaN   \n",
              "5494                        گفتم       OTHER     NaN   \n",
              "5515                 داریم مگه؟     SURPRISE     NaN   \n",
              "5523                         کی؟    SURPRISE     NaN   \n",
              "5537              وااااای  کجا؟؟؟؟      FEAR     NaN   \n",
              "5582                      آره آره      HAPPY     NaN   \n",
              "5654                     چی هست؟؟      OTHER     NaN   \n",
              "5721              همین الان دیگه       OTHER     NaN   \n",
              "5734                   یعنی چی ؟    SURPRISE     NaN   \n",
              "5803                        مرسی       HAPPY     NaN   \n",
              "5846                        چرررا   SURPRISE     NaN   \n",
              "5872                  کجا؟!!!!!!!   SURPRISE     NaN   \n",
              "5958                          چی؟   SURPRISE     NaN   \n",
              "6017                      آخ گفتی      OTHER     NaN   \n",
              "6021  این  https://t.co/M6bPwDByhT     OTHER     NaN   \n",
              "6057                  مممرسیییییی      HAPPY     NaN   \n",
              "\n",
              "                           stemmed  \n",
              "3764                     به کی؟؟؟   \n",
              "3772                     آخ گفتی    \n",
              "3875                     فوق چی؟    \n",
              "3902                        به به   \n",
              "3912    ما کی هستیم؟؟؟چی هستیم؟؟؟   \n",
              "3942                     چی چند؟    \n",
              "3958                       من هستم  \n",
              "3968                      برای چی؟  \n",
              "4087            مگه الان نیستیم؟!   \n",
              "4171                      آخ گفتی   \n",
              "4191                    میاد میاد   \n",
              "4222                        چرا؟!   \n",
              "4305                      نه دیگه   \n",
              "4389                         چرا؟   \n",
              "4565                      آخ گفتی   \n",
              "4676                        مرسی    \n",
              "4839              مرسی هستی اصلا    \n",
              "4872                          چی؟   \n",
              "4875                     آخ گفتی    \n",
              "4878                       چرا خب   \n",
              "4898                    ای وااای    \n",
              "4950                     آخ گفتی    \n",
              "4954                   مگه داریم ؟  \n",
              "4966                         چرا؟   \n",
              "4972                        مرسی    \n",
              "5076                        چرا؟؟   \n",
              "5094                      ای گفتی   \n",
              "5095                         مرسی   \n",
              "5097               وای مرسی مرسی    \n",
              "5149                      چرا خب؟   \n",
              "5228                     آخ گفتی    \n",
              "5273                         گفتی   \n",
              "5367                         چرا؟   \n",
              "5382                         باشد   \n",
              "5413                        چرا !؟  \n",
              "5436             اصلا مگه داریم؟    \n",
              "5494                        گفتم    \n",
              "5515                 داریم مگه؟     \n",
              "5523                         کی؟    \n",
              "5537              وااااای  کجا؟؟؟؟  \n",
              "5582                      آره آره   \n",
              "5654                     چی هست؟؟   \n",
              "5721              همین الان دیگه    \n",
              "5734                   یعنی چی ؟    \n",
              "5803                        مرسی    \n",
              "5846                        چرررا   \n",
              "5872                  کجا؟!!!!!!!   \n",
              "5958                          چی؟   \n",
              "6017                      آخ گفتی   \n",
              "6021  این  https://t.co/M6bPwDByhT  \n",
              "6057                  مممرسیییییی   "
            ]
          },
          "execution_count": 7,
          "metadata": {},
          "output_type": "execute_result"
        }
      ],
      "source": [
        "df_train[df_train.isna().any(axis=1)]\n"
      ]
    },
    {
      "cell_type": "code",
      "execution_count": 8,
      "metadata": {
        "id": "NiIM2As5TLif"
      },
      "outputs": [],
      "source": [
        "df_train = df_train.dropna()\n"
      ]
    },
    {
      "cell_type": "code",
      "execution_count": 9,
      "metadata": {
        "colab": {
          "base_uri": "https://localhost:8080/"
        },
        "id": "NjRdyI93vktV",
        "outputId": "8b84cdc7-8929-4873-8715-7d8323d9190d"
      },
      "outputs": [
        {
          "data": {
            "text/plain": [
              "27"
            ]
          },
          "execution_count": 9,
          "metadata": {},
          "output_type": "execute_result"
        }
      ],
      "source": [
        "df_train.duplicated().sum()\n"
      ]
    },
    {
      "cell_type": "code",
      "execution_count": 10,
      "metadata": {
        "id": "W2The17TvsPz"
      },
      "outputs": [],
      "source": [
        "df_train = df_train.drop_duplicates()"
      ]
    },
    {
      "cell_type": "code",
      "execution_count": 11,
      "metadata": {
        "colab": {
          "base_uri": "https://localhost:8080/"
        },
        "id": "bJFK-RIJTOWF",
        "outputId": "dd2b133a-9124-4eb0-e527-d6daceb3c17a"
      },
      "outputs": [
        {
          "name": "stdout",
          "output_type": "stream",
          "text": [
            "<class 'pandas.core.frame.DataFrame'>\n",
            "Int64Index: 6047 entries, 0 to 6124\n",
            "Data columns (total 4 columns):\n",
            " #   Column   Non-Null Count  Dtype \n",
            "---  ------   --------------  ----- \n",
            " 0   text     6047 non-null   object\n",
            " 1   label    6047 non-null   object\n",
            " 2   cleaned  6047 non-null   object\n",
            " 3   stemmed  6047 non-null   object\n",
            "dtypes: object(4)\n",
            "memory usage: 236.2+ KB\n"
          ]
        }
      ],
      "source": [
        "df_train.info()"
      ]
    },
    {
      "cell_type": "code",
      "execution_count": 12,
      "metadata": {
        "colab": {
          "base_uri": "https://localhost:8080/",
          "height": 206
        },
        "id": "qtdmY91TLSqk",
        "outputId": "145fe92e-8d18-4236-8a03-e139306f54a8"
      },
      "outputs": [
        {
          "data": {
            "text/html": [
              "\n",
              "  <div id=\"df-4a4106cd-4036-42f9-97b3-e9c059a969dc\">\n",
              "    <div class=\"colab-df-container\">\n",
              "      <div>\n",
              "<style scoped>\n",
              "    .dataframe tbody tr th:only-of-type {\n",
              "        vertical-align: middle;\n",
              "    }\n",
              "\n",
              "    .dataframe tbody tr th {\n",
              "        vertical-align: top;\n",
              "    }\n",
              "\n",
              "    .dataframe thead th {\n",
              "        text-align: right;\n",
              "    }\n",
              "</style>\n",
              "<table border=\"1\" class=\"dataframe\">\n",
              "  <thead>\n",
              "    <tr style=\"text-align: right;\">\n",
              "      <th></th>\n",
              "      <th>text</th>\n",
              "      <th>label</th>\n",
              "      <th>cleaned</th>\n",
              "      <th>stemmed</th>\n",
              "    </tr>\n",
              "  </thead>\n",
              "  <tbody>\n",
              "    <tr>\n",
              "      <th>0</th>\n",
              "      <td>اين شايد اولين عزاى عمومى واقعى است كه ياد دار...</td>\n",
              "      <td>SAD</td>\n",
              "      <td>اولین عزای عمومی یاد وجودم عزادار است؛ پر گری...</td>\n",
              "      <td>اين شايد اولين عزاى عمومى واقعى است كه ياد دار...</td>\n",
              "    </tr>\n",
              "    <tr>\n",
              "      <th>1</th>\n",
              "      <td>دیشب بعد از ارسال تویت مربوط به آثار باستانی ت...</td>\n",
              "      <td>HAPPY</td>\n",
              "      <td>دیشب ارسال تویت مربوط آثار باستانی تویت نوشتم...</td>\n",
              "      <td>دیشب بعد از ارسال تویت مربوط به آثار باستانی ت...</td>\n",
              "    </tr>\n",
              "    <tr>\n",
              "      <th>2</th>\n",
              "      <td>کدوم شعبه پول نداده، بگو الان برات آمار دقیق ...</td>\n",
              "      <td>OTHER</td>\n",
              "      <td>کدوم شعبه پول نداده برات آمار دقیق بدم شعار ا...</td>\n",
              "      <td>کدوم شعبه پول نداده، بگو الان برات آمار دقیق ...</td>\n",
              "    </tr>\n",
              "    <tr>\n",
              "      <th>3</th>\n",
              "      <td>امروز وسط یه بحث با بابا مامانم گفتم آدم باید ...</td>\n",
              "      <td>HAPPY</td>\n",
              "      <td>وسط بحث بابا مامانم آدم تلاش کنه شادی قلبش بع...</td>\n",
              "      <td>امروز وسط یه بحث با بابا مامانم گفتم آدم باید ...</td>\n",
              "    </tr>\n",
              "    <tr>\n",
              "      <th>4</th>\n",
              "      <td>امشب گفت نامزدی دوستش که ادم روشنفکری است بهم ...</td>\n",
              "      <td>SAD</td>\n",
              "      <td>امشب نامزدی دوستش ادم روشنفکری بهم خورده دختر...</td>\n",
              "      <td>امشب گفت نامزدی دوستش که ادم روشنفکری است بهم ...</td>\n",
              "    </tr>\n",
              "  </tbody>\n",
              "</table>\n",
              "</div>\n",
              "      <button class=\"colab-df-convert\" onclick=\"convertToInteractive('df-4a4106cd-4036-42f9-97b3-e9c059a969dc')\"\n",
              "              title=\"Convert this dataframe to an interactive table.\"\n",
              "              style=\"display:none;\">\n",
              "        \n",
              "  <svg xmlns=\"http://www.w3.org/2000/svg\" height=\"24px\"viewBox=\"0 0 24 24\"\n",
              "       width=\"24px\">\n",
              "    <path d=\"M0 0h24v24H0V0z\" fill=\"none\"/>\n",
              "    <path d=\"M18.56 5.44l.94 2.06.94-2.06 2.06-.94-2.06-.94-.94-2.06-.94 2.06-2.06.94zm-11 1L8.5 8.5l.94-2.06 2.06-.94-2.06-.94L8.5 2.5l-.94 2.06-2.06.94zm10 10l.94 2.06.94-2.06 2.06-.94-2.06-.94-.94-2.06-.94 2.06-2.06.94z\"/><path d=\"M17.41 7.96l-1.37-1.37c-.4-.4-.92-.59-1.43-.59-.52 0-1.04.2-1.43.59L10.3 9.45l-7.72 7.72c-.78.78-.78 2.05 0 2.83L4 21.41c.39.39.9.59 1.41.59.51 0 1.02-.2 1.41-.59l7.78-7.78 2.81-2.81c.8-.78.8-2.07 0-2.86zM5.41 20L4 18.59l7.72-7.72 1.47 1.35L5.41 20z\"/>\n",
              "  </svg>\n",
              "      </button>\n",
              "      \n",
              "  <style>\n",
              "    .colab-df-container {\n",
              "      display:flex;\n",
              "      flex-wrap:wrap;\n",
              "      gap: 12px;\n",
              "    }\n",
              "\n",
              "    .colab-df-convert {\n",
              "      background-color: #E8F0FE;\n",
              "      border: none;\n",
              "      border-radius: 50%;\n",
              "      cursor: pointer;\n",
              "      display: none;\n",
              "      fill: #1967D2;\n",
              "      height: 32px;\n",
              "      padding: 0 0 0 0;\n",
              "      width: 32px;\n",
              "    }\n",
              "\n",
              "    .colab-df-convert:hover {\n",
              "      background-color: #E2EBFA;\n",
              "      box-shadow: 0px 1px 2px rgba(60, 64, 67, 0.3), 0px 1px 3px 1px rgba(60, 64, 67, 0.15);\n",
              "      fill: #174EA6;\n",
              "    }\n",
              "\n",
              "    [theme=dark] .colab-df-convert {\n",
              "      background-color: #3B4455;\n",
              "      fill: #D2E3FC;\n",
              "    }\n",
              "\n",
              "    [theme=dark] .colab-df-convert:hover {\n",
              "      background-color: #434B5C;\n",
              "      box-shadow: 0px 1px 3px 1px rgba(0, 0, 0, 0.15);\n",
              "      filter: drop-shadow(0px 1px 2px rgba(0, 0, 0, 0.3));\n",
              "      fill: #FFFFFF;\n",
              "    }\n",
              "  </style>\n",
              "\n",
              "      <script>\n",
              "        const buttonEl =\n",
              "          document.querySelector('#df-4a4106cd-4036-42f9-97b3-e9c059a969dc button.colab-df-convert');\n",
              "        buttonEl.style.display =\n",
              "          google.colab.kernel.accessAllowed ? 'block' : 'none';\n",
              "\n",
              "        async function convertToInteractive(key) {\n",
              "          const element = document.querySelector('#df-4a4106cd-4036-42f9-97b3-e9c059a969dc');\n",
              "          const dataTable =\n",
              "            await google.colab.kernel.invokeFunction('convertToInteractive',\n",
              "                                                     [key], {});\n",
              "          if (!dataTable) return;\n",
              "\n",
              "          const docLinkHtml = 'Like what you see? Visit the ' +\n",
              "            '<a target=\"_blank\" href=https://colab.research.google.com/notebooks/data_table.ipynb>data table notebook</a>'\n",
              "            + ' to learn more about interactive tables.';\n",
              "          element.innerHTML = '';\n",
              "          dataTable['output_type'] = 'display_data';\n",
              "          await google.colab.output.renderOutput(dataTable, element);\n",
              "          const docLink = document.createElement('div');\n",
              "          docLink.innerHTML = docLinkHtml;\n",
              "          element.appendChild(docLink);\n",
              "        }\n",
              "      </script>\n",
              "    </div>\n",
              "  </div>\n",
              "  "
            ],
            "text/plain": [
              "                                                text  label  \\\n",
              "0  اين شايد اولين عزاى عمومى واقعى است كه ياد دار...    SAD   \n",
              "1  دیشب بعد از ارسال تویت مربوط به آثار باستانی ت...  HAPPY   \n",
              "2   کدوم شعبه پول نداده، بگو الان برات آمار دقیق ...  OTHER   \n",
              "3  امروز وسط یه بحث با بابا مامانم گفتم آدم باید ...  HAPPY   \n",
              "4  امشب گفت نامزدی دوستش که ادم روشنفکری است بهم ...    SAD   \n",
              "\n",
              "                                             cleaned  \\\n",
              "0   اولین عزای عمومی یاد وجودم عزادار است؛ پر گری...   \n",
              "1   دیشب ارسال تویت مربوط آثار باستانی تویت نوشتم...   \n",
              "2   کدوم شعبه پول نداده برات آمار دقیق بدم شعار ا...   \n",
              "3   وسط بحث بابا مامانم آدم تلاش کنه شادی قلبش بع...   \n",
              "4   امشب نامزدی دوستش ادم روشنفکری بهم خورده دختر...   \n",
              "\n",
              "                                             stemmed  \n",
              "0  اين شايد اولين عزاى عمومى واقعى است كه ياد دار...  \n",
              "1  دیشب بعد از ارسال تویت مربوط به آثار باستانی ت...  \n",
              "2   کدوم شعبه پول نداده، بگو الان برات آمار دقیق ...  \n",
              "3  امروز وسط یه بحث با بابا مامانم گفتم آدم باید ...  \n",
              "4  امشب گفت نامزدی دوستش که ادم روشنفکری است بهم ...  "
            ]
          },
          "execution_count": 12,
          "metadata": {},
          "output_type": "execute_result"
        }
      ],
      "source": [
        "df_test.head()"
      ]
    },
    {
      "cell_type": "code",
      "execution_count": 13,
      "metadata": {
        "colab": {
          "base_uri": "https://localhost:8080/",
          "height": 206
        },
        "id": "LMNmj5OTLWAW",
        "outputId": "7676afa3-d171-4338-bad6-d388b3ac909b"
      },
      "outputs": [
        {
          "data": {
            "text/html": [
              "\n",
              "  <div id=\"df-a3180e42-dd70-40a0-9c80-2b3f8b1051be\">\n",
              "    <div class=\"colab-df-container\">\n",
              "      <div>\n",
              "<style scoped>\n",
              "    .dataframe tbody tr th:only-of-type {\n",
              "        vertical-align: middle;\n",
              "    }\n",
              "\n",
              "    .dataframe tbody tr th {\n",
              "        vertical-align: top;\n",
              "    }\n",
              "\n",
              "    .dataframe thead th {\n",
              "        text-align: right;\n",
              "    }\n",
              "</style>\n",
              "<table border=\"1\" class=\"dataframe\">\n",
              "  <thead>\n",
              "    <tr style=\"text-align: right;\">\n",
              "      <th></th>\n",
              "      <th>text</th>\n",
              "      <th>label</th>\n",
              "      <th>cleaned</th>\n",
              "      <th>stemmed</th>\n",
              "    </tr>\n",
              "  </thead>\n",
              "  <tbody>\n",
              "    <tr>\n",
              "      <th>1146</th>\n",
              "      <td>یعنی این آهنگ مرغ سحر جوری ساخته شده و روی این...</td>\n",
              "      <td>HAPPY</td>\n",
              "      <td>آهنگ مرغ سحر جوری شعر نشسته انگار ازل شعر هیش...</td>\n",
              "      <td>یعنی این آهنگ مرغ سحر جوری ساخته شده و روی این...</td>\n",
              "    </tr>\n",
              "    <tr>\n",
              "      <th>1147</th>\n",
              "      <td>درود بر همه ایرانیان شریف که در این سرما در تظ...</td>\n",
              "      <td>HAPPY</td>\n",
              "      <td>درود ایرانیان شریف سرما تظاهرات بیاد ماندنی ز...</td>\n",
              "      <td>درود بر همه ایرانیان شریف که در این سرما در تظ...</td>\n",
              "    </tr>\n",
              "    <tr>\n",
              "      <th>1148</th>\n",
              "      <td>امروز تولدم است،عید است ولی شاد نیستم،عید و تو...</td>\n",
              "      <td>SAD</td>\n",
              "      <td>تولدم عید شاد عید تولد شادمانه روزی هموطن عقی...</td>\n",
              "      <td>امروز تولدم است،عید است ولی شاد نیستم،عید و تو...</td>\n",
              "    </tr>\n",
              "    <tr>\n",
              "      <th>1149</th>\n",
              "      <td>لعنت به اونی که دلتنگ نگهت میداره...</td>\n",
              "      <td>SAD</td>\n",
              "      <td>لعنت اونی دلتنگ نگهت میداره</td>\n",
              "      <td>لعنت به اونی که دلتنگ نگهت میداره...</td>\n",
              "    </tr>\n",
              "    <tr>\n",
              "      <th>1150</th>\n",
              "      <td>من در شگفت انگیز و قبل از بالا رفتن قیمت ها به...</td>\n",
              "      <td>HAPPY</td>\n",
              "      <td>شگفت انگیز رفتن قیمت پیشنهاد همسرم خرید نتیجه...</td>\n",
              "      <td>من در شگفت انگیز و قبل از بالا رفتن قیمت ها به...</td>\n",
              "    </tr>\n",
              "  </tbody>\n",
              "</table>\n",
              "</div>\n",
              "      <button class=\"colab-df-convert\" onclick=\"convertToInteractive('df-a3180e42-dd70-40a0-9c80-2b3f8b1051be')\"\n",
              "              title=\"Convert this dataframe to an interactive table.\"\n",
              "              style=\"display:none;\">\n",
              "        \n",
              "  <svg xmlns=\"http://www.w3.org/2000/svg\" height=\"24px\"viewBox=\"0 0 24 24\"\n",
              "       width=\"24px\">\n",
              "    <path d=\"M0 0h24v24H0V0z\" fill=\"none\"/>\n",
              "    <path d=\"M18.56 5.44l.94 2.06.94-2.06 2.06-.94-2.06-.94-.94-2.06-.94 2.06-2.06.94zm-11 1L8.5 8.5l.94-2.06 2.06-.94-2.06-.94L8.5 2.5l-.94 2.06-2.06.94zm10 10l.94 2.06.94-2.06 2.06-.94-2.06-.94-.94-2.06-.94 2.06-2.06.94z\"/><path d=\"M17.41 7.96l-1.37-1.37c-.4-.4-.92-.59-1.43-.59-.52 0-1.04.2-1.43.59L10.3 9.45l-7.72 7.72c-.78.78-.78 2.05 0 2.83L4 21.41c.39.39.9.59 1.41.59.51 0 1.02-.2 1.41-.59l7.78-7.78 2.81-2.81c.8-.78.8-2.07 0-2.86zM5.41 20L4 18.59l7.72-7.72 1.47 1.35L5.41 20z\"/>\n",
              "  </svg>\n",
              "      </button>\n",
              "      \n",
              "  <style>\n",
              "    .colab-df-container {\n",
              "      display:flex;\n",
              "      flex-wrap:wrap;\n",
              "      gap: 12px;\n",
              "    }\n",
              "\n",
              "    .colab-df-convert {\n",
              "      background-color: #E8F0FE;\n",
              "      border: none;\n",
              "      border-radius: 50%;\n",
              "      cursor: pointer;\n",
              "      display: none;\n",
              "      fill: #1967D2;\n",
              "      height: 32px;\n",
              "      padding: 0 0 0 0;\n",
              "      width: 32px;\n",
              "    }\n",
              "\n",
              "    .colab-df-convert:hover {\n",
              "      background-color: #E2EBFA;\n",
              "      box-shadow: 0px 1px 2px rgba(60, 64, 67, 0.3), 0px 1px 3px 1px rgba(60, 64, 67, 0.15);\n",
              "      fill: #174EA6;\n",
              "    }\n",
              "\n",
              "    [theme=dark] .colab-df-convert {\n",
              "      background-color: #3B4455;\n",
              "      fill: #D2E3FC;\n",
              "    }\n",
              "\n",
              "    [theme=dark] .colab-df-convert:hover {\n",
              "      background-color: #434B5C;\n",
              "      box-shadow: 0px 1px 3px 1px rgba(0, 0, 0, 0.15);\n",
              "      filter: drop-shadow(0px 1px 2px rgba(0, 0, 0, 0.3));\n",
              "      fill: #FFFFFF;\n",
              "    }\n",
              "  </style>\n",
              "\n",
              "      <script>\n",
              "        const buttonEl =\n",
              "          document.querySelector('#df-a3180e42-dd70-40a0-9c80-2b3f8b1051be button.colab-df-convert');\n",
              "        buttonEl.style.display =\n",
              "          google.colab.kernel.accessAllowed ? 'block' : 'none';\n",
              "\n",
              "        async function convertToInteractive(key) {\n",
              "          const element = document.querySelector('#df-a3180e42-dd70-40a0-9c80-2b3f8b1051be');\n",
              "          const dataTable =\n",
              "            await google.colab.kernel.invokeFunction('convertToInteractive',\n",
              "                                                     [key], {});\n",
              "          if (!dataTable) return;\n",
              "\n",
              "          const docLinkHtml = 'Like what you see? Visit the ' +\n",
              "            '<a target=\"_blank\" href=https://colab.research.google.com/notebooks/data_table.ipynb>data table notebook</a>'\n",
              "            + ' to learn more about interactive tables.';\n",
              "          element.innerHTML = '';\n",
              "          dataTable['output_type'] = 'display_data';\n",
              "          await google.colab.output.renderOutput(dataTable, element);\n",
              "          const docLink = document.createElement('div');\n",
              "          docLink.innerHTML = docLinkHtml;\n",
              "          element.appendChild(docLink);\n",
              "        }\n",
              "      </script>\n",
              "    </div>\n",
              "  </div>\n",
              "  "
            ],
            "text/plain": [
              "                                                   text  label  \\\n",
              "1146  یعنی این آهنگ مرغ سحر جوری ساخته شده و روی این...  HAPPY   \n",
              "1147  درود بر همه ایرانیان شریف که در این سرما در تظ...  HAPPY   \n",
              "1148  امروز تولدم است،عید است ولی شاد نیستم،عید و تو...    SAD   \n",
              "1149               لعنت به اونی که دلتنگ نگهت میداره...    SAD   \n",
              "1150  من در شگفت انگیز و قبل از بالا رفتن قیمت ها به...  HAPPY   \n",
              "\n",
              "                                                cleaned  \\\n",
              "1146   آهنگ مرغ سحر جوری شعر نشسته انگار ازل شعر هیش...   \n",
              "1147   درود ایرانیان شریف سرما تظاهرات بیاد ماندنی ز...   \n",
              "1148   تولدم عید شاد عید تولد شادمانه روزی هموطن عقی...   \n",
              "1149                        لعنت اونی دلتنگ نگهت میداره   \n",
              "1150   شگفت انگیز رفتن قیمت پیشنهاد همسرم خرید نتیجه...   \n",
              "\n",
              "                                                stemmed  \n",
              "1146  یعنی این آهنگ مرغ سحر جوری ساخته شده و روی این...  \n",
              "1147  درود بر همه ایرانیان شریف که در این سرما در تظ...  \n",
              "1148  امروز تولدم است،عید است ولی شاد نیستم،عید و تو...  \n",
              "1149               لعنت به اونی که دلتنگ نگهت میداره...  \n",
              "1150  من در شگفت انگیز و قبل از بالا رفتن قیمت ها به...  "
            ]
          },
          "execution_count": 13,
          "metadata": {},
          "output_type": "execute_result"
        }
      ],
      "source": [
        "df_test.tail()"
      ]
    },
    {
      "cell_type": "code",
      "execution_count": 14,
      "metadata": {
        "colab": {
          "base_uri": "https://localhost:8080/",
          "height": 49
        },
        "id": "wzLKYNWcvzR5",
        "outputId": "a73f5935-1821-4458-c10e-b29dcc243b0b"
      },
      "outputs": [
        {
          "data": {
            "text/html": [
              "\n",
              "  <div id=\"df-5773e9c8-f607-4802-a545-c9a1a30455fb\">\n",
              "    <div class=\"colab-df-container\">\n",
              "      <div>\n",
              "<style scoped>\n",
              "    .dataframe tbody tr th:only-of-type {\n",
              "        vertical-align: middle;\n",
              "    }\n",
              "\n",
              "    .dataframe tbody tr th {\n",
              "        vertical-align: top;\n",
              "    }\n",
              "\n",
              "    .dataframe thead th {\n",
              "        text-align: right;\n",
              "    }\n",
              "</style>\n",
              "<table border=\"1\" class=\"dataframe\">\n",
              "  <thead>\n",
              "    <tr style=\"text-align: right;\">\n",
              "      <th></th>\n",
              "      <th>text</th>\n",
              "      <th>label</th>\n",
              "      <th>cleaned</th>\n",
              "      <th>stemmed</th>\n",
              "    </tr>\n",
              "  </thead>\n",
              "  <tbody>\n",
              "  </tbody>\n",
              "</table>\n",
              "</div>\n",
              "      <button class=\"colab-df-convert\" onclick=\"convertToInteractive('df-5773e9c8-f607-4802-a545-c9a1a30455fb')\"\n",
              "              title=\"Convert this dataframe to an interactive table.\"\n",
              "              style=\"display:none;\">\n",
              "        \n",
              "  <svg xmlns=\"http://www.w3.org/2000/svg\" height=\"24px\"viewBox=\"0 0 24 24\"\n",
              "       width=\"24px\">\n",
              "    <path d=\"M0 0h24v24H0V0z\" fill=\"none\"/>\n",
              "    <path d=\"M18.56 5.44l.94 2.06.94-2.06 2.06-.94-2.06-.94-.94-2.06-.94 2.06-2.06.94zm-11 1L8.5 8.5l.94-2.06 2.06-.94-2.06-.94L8.5 2.5l-.94 2.06-2.06.94zm10 10l.94 2.06.94-2.06 2.06-.94-2.06-.94-.94-2.06-.94 2.06-2.06.94z\"/><path d=\"M17.41 7.96l-1.37-1.37c-.4-.4-.92-.59-1.43-.59-.52 0-1.04.2-1.43.59L10.3 9.45l-7.72 7.72c-.78.78-.78 2.05 0 2.83L4 21.41c.39.39.9.59 1.41.59.51 0 1.02-.2 1.41-.59l7.78-7.78 2.81-2.81c.8-.78.8-2.07 0-2.86zM5.41 20L4 18.59l7.72-7.72 1.47 1.35L5.41 20z\"/>\n",
              "  </svg>\n",
              "      </button>\n",
              "      \n",
              "  <style>\n",
              "    .colab-df-container {\n",
              "      display:flex;\n",
              "      flex-wrap:wrap;\n",
              "      gap: 12px;\n",
              "    }\n",
              "\n",
              "    .colab-df-convert {\n",
              "      background-color: #E8F0FE;\n",
              "      border: none;\n",
              "      border-radius: 50%;\n",
              "      cursor: pointer;\n",
              "      display: none;\n",
              "      fill: #1967D2;\n",
              "      height: 32px;\n",
              "      padding: 0 0 0 0;\n",
              "      width: 32px;\n",
              "    }\n",
              "\n",
              "    .colab-df-convert:hover {\n",
              "      background-color: #E2EBFA;\n",
              "      box-shadow: 0px 1px 2px rgba(60, 64, 67, 0.3), 0px 1px 3px 1px rgba(60, 64, 67, 0.15);\n",
              "      fill: #174EA6;\n",
              "    }\n",
              "\n",
              "    [theme=dark] .colab-df-convert {\n",
              "      background-color: #3B4455;\n",
              "      fill: #D2E3FC;\n",
              "    }\n",
              "\n",
              "    [theme=dark] .colab-df-convert:hover {\n",
              "      background-color: #434B5C;\n",
              "      box-shadow: 0px 1px 3px 1px rgba(0, 0, 0, 0.15);\n",
              "      filter: drop-shadow(0px 1px 2px rgba(0, 0, 0, 0.3));\n",
              "      fill: #FFFFFF;\n",
              "    }\n",
              "  </style>\n",
              "\n",
              "      <script>\n",
              "        const buttonEl =\n",
              "          document.querySelector('#df-5773e9c8-f607-4802-a545-c9a1a30455fb button.colab-df-convert');\n",
              "        buttonEl.style.display =\n",
              "          google.colab.kernel.accessAllowed ? 'block' : 'none';\n",
              "\n",
              "        async function convertToInteractive(key) {\n",
              "          const element = document.querySelector('#df-5773e9c8-f607-4802-a545-c9a1a30455fb');\n",
              "          const dataTable =\n",
              "            await google.colab.kernel.invokeFunction('convertToInteractive',\n",
              "                                                     [key], {});\n",
              "          if (!dataTable) return;\n",
              "\n",
              "          const docLinkHtml = 'Like what you see? Visit the ' +\n",
              "            '<a target=\"_blank\" href=https://colab.research.google.com/notebooks/data_table.ipynb>data table notebook</a>'\n",
              "            + ' to learn more about interactive tables.';\n",
              "          element.innerHTML = '';\n",
              "          dataTable['output_type'] = 'display_data';\n",
              "          await google.colab.output.renderOutput(dataTable, element);\n",
              "          const docLink = document.createElement('div');\n",
              "          docLink.innerHTML = docLinkHtml;\n",
              "          element.appendChild(docLink);\n",
              "        }\n",
              "      </script>\n",
              "    </div>\n",
              "  </div>\n",
              "  "
            ],
            "text/plain": [
              "Empty DataFrame\n",
              "Columns: [text, label, cleaned, stemmed]\n",
              "Index: []"
            ]
          },
          "execution_count": 14,
          "metadata": {},
          "output_type": "execute_result"
        }
      ],
      "source": [
        "df_test[df_test.isna().any(axis=1)]\n"
      ]
    },
    {
      "cell_type": "code",
      "execution_count": 15,
      "metadata": {
        "colab": {
          "base_uri": "https://localhost:8080/"
        },
        "id": "E26S3wr3v12U",
        "outputId": "87a9a5ab-a7bd-4b1e-f133-62947037f099"
      },
      "outputs": [
        {
          "data": {
            "text/plain": [
              "0"
            ]
          },
          "execution_count": 15,
          "metadata": {},
          "output_type": "execute_result"
        }
      ],
      "source": [
        "df_train.duplicated().sum()\n"
      ]
    },
    {
      "cell_type": "code",
      "execution_count": 16,
      "metadata": {
        "colab": {
          "base_uri": "https://localhost:8080/"
        },
        "id": "apvJ8KFeLW-5",
        "outputId": "d1d327ad-7193-4f75-e17e-b1a6b8bcd9b4"
      },
      "outputs": [
        {
          "name": "stdout",
          "output_type": "stream",
          "text": [
            "<class 'pandas.core.frame.DataFrame'>\n",
            "RangeIndex: 1151 entries, 0 to 1150\n",
            "Data columns (total 4 columns):\n",
            " #   Column   Non-Null Count  Dtype \n",
            "---  ------   --------------  ----- \n",
            " 0   text     1151 non-null   object\n",
            " 1   label    1151 non-null   object\n",
            " 2   cleaned  1151 non-null   object\n",
            " 3   stemmed  1151 non-null   object\n",
            "dtypes: object(4)\n",
            "memory usage: 36.1+ KB\n"
          ]
        }
      ],
      "source": [
        "df_test.info()"
      ]
    },
    {
      "cell_type": "code",
      "execution_count": 17,
      "metadata": {
        "colab": {
          "base_uri": "https://localhost:8080/"
        },
        "id": "mnESAGP8LX0R",
        "outputId": "d5c9af15-7c50-4407-e9f0-4e9df7ac7eab"
      },
      "outputs": [
        {
          "data": {
            "text/plain": [
              "OTHER       1654\n",
              "ANGRY        916\n",
              "SAD          896\n",
              "FEAR         745\n",
              "SURPRISE     717\n",
              "HAPPY        608\n",
              "HATE         511\n",
              "Name: label, dtype: int64"
            ]
          },
          "execution_count": 17,
          "metadata": {},
          "output_type": "execute_result"
        }
      ],
      "source": [
        "df_train['label'].value_counts()\n"
      ]
    },
    {
      "cell_type": "code",
      "execution_count": 18,
      "metadata": {
        "colab": {
          "base_uri": "https://localhost:8080/",
          "height": 408
        },
        "id": "D0iGwpKxLbai",
        "outputId": "fd165593-3b94-41cc-c829-c1cb40c4aad7"
      },
      "outputs": [
        {
          "data": {
            "image/png": "[encoded data removed]",
            "text/plain": [
              "<Figure size 720x432 with 1 Axes>"
            ]
          },
          "metadata": {},
          "output_type": "display_data"
        }
      ],
      "source": [
        "plt.style.use('ggplot')\n",
        "plt.figure(figsize=(10,6))\n",
        "sns.countplot(x='label', data=df_train).set(title='Emotions');"
      ]
    },
    {
      "cell_type": "code",
      "execution_count": 19,
      "metadata": {
        "colab": {
          "base_uri": "https://localhost:8080/"
        },
        "id": "IeacU2H9LeOu",
        "outputId": "28c38aaa-c70c-4733-da95-99256364c3af"
      },
      "outputs": [
        {
          "data": {
            "text/plain": [
              "HAPPY       275\n",
              "SAD         262\n",
              "OTHER       193\n",
              "ANGRY       154\n",
              "SURPRISE    145\n",
              "HATE         65\n",
              "FEAR         57\n",
              "Name: label, dtype: int64"
            ]
          },
          "execution_count": 19,
          "metadata": {},
          "output_type": "execute_result"
        }
      ],
      "source": [
        "df_test['label'].value_counts()\n"
      ]
    },
    {
      "cell_type": "code",
      "execution_count": 20,
      "metadata": {
        "colab": {
          "base_uri": "https://localhost:8080/",
          "height": 408
        },
        "id": "kadbrE49LgN_",
        "outputId": "c1ecf456-9e04-407f-e263-dd1dd404359f"
      },
      "outputs": [
        {
          "data": {
            "image/png": "[encoded data removed]",
            "text/plain": [
              "<Figure size 720x432 with 1 Axes>"
            ]
          },
          "metadata": {},
          "output_type": "display_data"
        }
      ],
      "source": [
        "plt.style.use('ggplot')\n",
        "plt.figure(figsize=(10,6))\n",
        "sns.countplot(x='label', data=df_test).set(title='Emotions');"
      ]
    },
    {
      "cell_type": "markdown",
      "metadata": {
        "id": "LhDAc7lZLm6_"
      },
      "source": [
        "## give labels numbers"
      ]
    },
    {
      "cell_type": "code",
      "execution_count": 21,
      "metadata": {
        "id": "W1aJ9mf0Li4D"
      },
      "outputs": [],
      "source": [
        "labels_cat = {'FEAR': 0, 'SAD': 1, 'SURPRISE': 2, 'OTHER': 3, 'HAPPY': 4, 'HATE':5, 'ANGRY': 6}\n",
        "df_train.label = [labels_cat[item] for item in df_train.label]\n",
        "df_test.label = [labels_cat[item] for item in df_test.label]"
      ]
    },
    {
      "cell_type": "code",
      "execution_count": 22,
      "metadata": {
        "id": "VZXoyiu_Lo0Y"
      },
      "outputs": [],
      "source": [
        "labels_train = df_train['label'].values\n",
        "labels_test = df_test['label'].values\n"
      ]
    },
    {
      "cell_type": "markdown",
      "metadata": {
        "id": "mvTESz6IL64J"
      },
      "source": [
        "## Split data to train test and validation"
      ]
    },
    {
      "cell_type": "code",
      "execution_count": 23,
      "metadata": {
        "id": "-uWH1x-tL40F"
      },
      "outputs": [],
      "source": [
        "from sklearn.model_selection import train_test_split\n"
      ]
    },
    {
      "cell_type": "code",
      "execution_count": 24,
      "metadata": {
        "id": "VchQBuUUL8WZ"
      },
      "outputs": [],
      "source": [
        "X_train, X_val, y_train, y_val = train_test_split(df_train.stemmed, labels_train, test_size=0.15, random_state=42)\n"
      ]
    },
    {
      "cell_type": "code",
      "execution_count": 25,
      "metadata": {
        "colab": {
          "base_uri": "https://localhost:8080/"
        },
        "id": "ddZqxcQgL9bZ",
        "outputId": "784d75f3-8e91-4ef6-c880-87fd1b02a9b9"
      },
      "outputs": [
        {
          "data": {
            "text/plain": [
              "(5139,)"
            ]
          },
          "execution_count": 25,
          "metadata": {},
          "output_type": "execute_result"
        }
      ],
      "source": [
        "X_train.shape"
      ]
    },
    {
      "cell_type": "code",
      "execution_count": 26,
      "metadata": {
        "colab": {
          "base_uri": "https://localhost:8080/"
        },
        "id": "KMHeGm4jMs-N",
        "outputId": "0d0fccba-0ba9-4e4c-9aba-71c3cfd6ef2e"
      },
      "outputs": [
        {
          "data": {
            "text/plain": [
              "(5139,)"
            ]
          },
          "execution_count": 26,
          "metadata": {},
          "output_type": "execute_result"
        }
      ],
      "source": [
        "y_train.shape"
      ]
    },
    {
      "cell_type": "code",
      "execution_count": 27,
      "metadata": {
        "colab": {
          "base_uri": "https://localhost:8080/"
        },
        "id": "Db6TiNTeMJGQ",
        "outputId": "8fd718b0-ec4c-4fb3-812c-1efbf1bb43eb"
      },
      "outputs": [
        {
          "data": {
            "text/plain": [
              "(908,)"
            ]
          },
          "execution_count": 27,
          "metadata": {},
          "output_type": "execute_result"
        }
      ],
      "source": [
        "X_val.shape"
      ]
    },
    {
      "cell_type": "code",
      "execution_count": 28,
      "metadata": {
        "colab": {
          "base_uri": "https://localhost:8080/"
        },
        "id": "MbsL4JjOMtZQ",
        "outputId": "3295c234-dfeb-4874-bfbe-c9569936dca7"
      },
      "outputs": [
        {
          "data": {
            "text/plain": [
              "(908,)"
            ]
          },
          "execution_count": 28,
          "metadata": {},
          "output_type": "execute_result"
        }
      ],
      "source": [
        "y_val.shape"
      ]
    },
    {
      "cell_type": "code",
      "execution_count": 29,
      "metadata": {
        "id": "BvwKbvzGMKmp"
      },
      "outputs": [],
      "source": [
        "X_test = df_test['stemmed']\n",
        "y_test = labels_test"
      ]
    },
    {
      "cell_type": "code",
      "execution_count": 30,
      "metadata": {
        "colab": {
          "base_uri": "https://localhost:8080/"
        },
        "id": "a_2hLMriMnlq",
        "outputId": "05dd9b11-ef2f-4908-fdfb-8d1e10a8a68b"
      },
      "outputs": [
        {
          "data": {
            "text/plain": [
              "(1151,)"
            ]
          },
          "execution_count": 30,
          "metadata": {},
          "output_type": "execute_result"
        }
      ],
      "source": [
        "X_test.shape"
      ]
    },
    {
      "cell_type": "code",
      "execution_count": 31,
      "metadata": {
        "colab": {
          "base_uri": "https://localhost:8080/"
        },
        "id": "Or3kvOncMpff",
        "outputId": "b4efbf55-5f6a-4b51-9de2-600248ef9046"
      },
      "outputs": [
        {
          "data": {
            "text/plain": [
              "(1151,)"
            ]
          },
          "execution_count": 31,
          "metadata": {},
          "output_type": "execute_result"
        }
      ],
      "source": [
        "y_test.shape"
      ]
    },
    {
      "cell_type": "code",
      "execution_count": 32,
      "metadata": {
        "id": "av5uLIOrMrLX"
      },
      "outputs": [],
      "source": [
        "input_dim = X_train.shape\n"
      ]
    },
    {
      "cell_type": "markdown",
      "metadata": {
        "id": "YodQ2FBnM4kU"
      },
      "source": [
        "## Build a vector for each label with 7 elements and make the real label 1"
      ]
    },
    {
      "cell_type": "code",
      "execution_count": 33,
      "metadata": {
        "id": "gXVMdiOoM2Lz"
      },
      "outputs": [],
      "source": [
        "y_train = np_utils.to_categorical(y_train, num_classes = 7, dtype =\"int32\")\n",
        "y_test = np_utils.to_categorical(y_test, num_classes = 7, dtype =\"int32\")\n",
        "y_val = np_utils.to_categorical(y_val, num_classes = 7, dtype =\"int32\")"
      ]
    },
    {
      "cell_type": "markdown",
      "metadata": {
        "id": "7oEmMUrkM_W4"
      },
      "source": [
        "## Tokenize"
      ]
    },
    {
      "cell_type": "code",
      "execution_count": 34,
      "metadata": {
        "id": "g4Fs0imEM9bm"
      },
      "outputs": [],
      "source": [
        "from tensorflow.keras.preprocessing.text import Tokenizer\n"
      ]
    },
    {
      "cell_type": "code",
      "execution_count": 35,
      "metadata": {
        "id": "b9XVAwNzNCco"
      },
      "outputs": [],
      "source": [
        "tokenizer = Tokenizer(oov_token='UNK')\n",
        "tokenizer.fit_on_texts(pd.concat([X_train, X_test], axis=0))"
      ]
    },
    {
      "cell_type": "code",
      "execution_count": 36,
      "metadata": {
        "colab": {
          "base_uri": "https://localhost:8080/"
        },
        "id": "tfRot1mwNDhu",
        "outputId": "fc18dfd4-d5e6-41f7-9209-7ee222b8cf11"
      },
      "outputs": [
        {
          "data": {
            "text/plain": [
              "6290"
            ]
          },
          "execution_count": 36,
          "metadata": {},
          "output_type": "execute_result"
        }
      ],
      "source": [
        "tokenizer.document_count\n",
        "\n"
      ]
    },
    {
      "cell_type": "code",
      "execution_count": 37,
      "metadata": {
        "colab": {
          "base_uri": "https://localhost:8080/"
        },
        "id": "QqJpj8XRNE2H",
        "outputId": "bb195bac-c52e-49f2-9d4a-dd77c295c28c"
      },
      "outputs": [
        {
          "data": {
            "text/plain": [
              "[[19], [1917], [302], [2], [14828], [3557], [3348], [240], [110], [18]]"
            ]
          },
          "execution_count": 37,
          "metadata": {},
          "output_type": "execute_result"
        }
      ],
      "source": [
        "tokenizer.texts_to_sequences(X_train[0].split())\n"
      ]
    },
    {
      "cell_type": "code",
      "execution_count": 38,
      "metadata": {
        "colab": {
          "base_uri": "https://localhost:8080/"
        },
        "id": "YOMFG5V1NHHF",
        "outputId": "d7a85dad-d836-4c3d-cb1b-42c351ea3eef"
      },
      "outputs": [
        {
          "data": {
            "text/plain": [
              "array([[0., 0., 0., ..., 0., 0., 0.],\n",
              "       [0., 0., 0., ..., 0., 0., 0.],\n",
              "       [0., 0., 0., ..., 0., 0., 0.],\n",
              "       ...,\n",
              "       [0., 0., 0., ..., 0., 0., 0.],\n",
              "       [0., 0., 0., ..., 0., 0., 0.],\n",
              "       [0., 0., 0., ..., 0., 0., 0.]])"
            ]
          },
          "execution_count": 38,
          "metadata": {},
          "output_type": "execute_result"
        }
      ],
      "source": [
        "tokenizer.texts_to_matrix(X_train[0].split())\n"
      ]
    },
    {
      "cell_type": "code",
      "execution_count": 39,
      "metadata": {
        "id": "oRW_kSjNNLYf"
      },
      "outputs": [],
      "source": [
        "sequences_train = tokenizer.texts_to_sequences(X_train)\n",
        "sequences_test = tokenizer.texts_to_sequences(X_test)\n",
        "sequences_val = tokenizer.texts_to_sequences(X_val)"
      ]
    },
    {
      "cell_type": "markdown",
      "metadata": {
        "id": "Ei1YX91bNOwo"
      },
      "source": [
        "## Padding\n",
        "The vectors we obtain are generally not of equal lengths\n",
        "\n",
        "For that, we might need to pad the sequences to max len."
      ]
    },
    {
      "cell_type": "code",
      "execution_count": 40,
      "metadata": {
        "id": "Hdp4v1HpNk7g"
      },
      "outputs": [],
      "source": [
        "from tensorflow.keras.preprocessing.sequence import pad_sequences\n"
      ]
    },
    {
      "cell_type": "code",
      "execution_count": 41,
      "metadata": {
        "id": "1JXCq82wNM-l"
      },
      "outputs": [],
      "source": [
        "maxlen_train = max([len(t) for t in df_train['cleaned']])\n",
        "maxlen_test = max([len(t) for t in df_test['cleaned']])"
      ]
    },
    {
      "cell_type": "code",
      "execution_count": 42,
      "metadata": {
        "colab": {
          "base_uri": "https://localhost:8080/"
        },
        "id": "f-tU6INXNcln",
        "outputId": "15b73003-3338-4eea-f3cc-a609f91adc77"
      },
      "outputs": [
        {
          "data": {
            "text/plain": [
              "2007"
            ]
          },
          "execution_count": 42,
          "metadata": {},
          "output_type": "execute_result"
        }
      ],
      "source": [
        "maxlen_train"
      ]
    },
    {
      "cell_type": "code",
      "execution_count": 43,
      "metadata": {
        "colab": {
          "base_uri": "https://localhost:8080/"
        },
        "id": "okqzH-RiNcLp",
        "outputId": "94716982-ba88-433f-e2fd-4de821dce3e4"
      },
      "outputs": [
        {
          "data": {
            "text/plain": [
              "240"
            ]
          },
          "execution_count": 43,
          "metadata": {},
          "output_type": "execute_result"
        }
      ],
      "source": [
        "maxlen_test"
      ]
    },
    {
      "cell_type": "code",
      "execution_count": 44,
      "metadata": {
        "id": "M_j31NXjNd1U"
      },
      "outputs": [],
      "source": [
        "X_train = pad_sequences(sequences_train, maxlen=2007, truncating='pre')\n",
        "X_test = pad_sequences(sequences_test, maxlen=2007, truncating='pre')\n",
        "X_val = pad_sequences(sequences_val, maxlen=2007, truncating='pre')"
      ]
    },
    {
      "cell_type": "code",
      "execution_count": 45,
      "metadata": {
        "colab": {
          "base_uri": "https://localhost:8080/"
        },
        "id": "H-KQPcYaNqla",
        "outputId": "5ed5927c-4e6c-4960-beec-4fbed54fd182"
      },
      "outputs": [
        {
          "name": "stdout",
          "output_type": "stream",
          "text": [
            "Vocabulary size = 26913\n"
          ]
        }
      ],
      "source": [
        "vocabSize = len(tokenizer.index_word) + 1\n",
        "print(f\"Vocabulary size = {vocabSize}\")"
      ]
    },
    {
      "cell_type": "code",
      "execution_count": 46,
      "metadata": {
        "colab": {
          "base_uri": "https://localhost:8080/"
        },
        "id": "77yzAgYRNt9Q",
        "outputId": "54523d71-e4f4-43d4-d566-6f7a65ec43d4"
      },
      "outputs": [
        {
          "data": {
            "text/plain": [
              "[68, 9796]"
            ]
          },
          "execution_count": 46,
          "metadata": {},
          "output_type": "execute_result"
        }
      ],
      "source": [
        "sequences_train[0]\n"
      ]
    },
    {
      "cell_type": "code",
      "execution_count": 47,
      "metadata": {
        "colab": {
          "base_uri": "https://localhost:8080/"
        },
        "id": "J9UZpIVWNxJR",
        "outputId": "8019ec4d-6944-4cce-9b09-8e80b8d7f506"
      },
      "outputs": [
        {
          "data": {
            "text/plain": [
              "array([   0,    0,    0, ...,    0,   68, 9796], dtype=int32)"
            ]
          },
          "execution_count": 47,
          "metadata": {},
          "output_type": "execute_result"
        }
      ],
      "source": [
        "X_train[0]\n"
      ]
    },
    {
      "cell_type": "markdown",
      "metadata": {
        "id": "4OZfSExsN3-E"
      },
      "source": [
        "## Word Embedding\n",
        "This code defines the following variables:\n",
        "\n",
        "path_to_glove_file: The file path to the GloVe word vectors file.\n",
        "\n",
        "num_tokens: The size of the vocabulary. This is typically the number of unique words in the dataset.\n",
        "\n",
        "embedding_dim: The dimensionality of the word vectors. This is usually set to a fixed value (e.g., 200, 300, etc.) depending on the size of the word vectors file that is being used.\n",
        "\n",
        "hits: A counter for the number of words that are found in the embeddings_index dictionary.\n",
        "\n",
        "misses: A counter for the number of words that are not found in the embeddings_index dictionary.\n",
        "\n",
        "embeddings_index: A dictionary that will store the word vectors, with the words as keys and the word vectors as values."
      ]
    },
    {
      "cell_type": "code",
      "execution_count": 48,
      "metadata": {
        "id": "X7a3rI8ONz04"
      },
      "outputs": [],
      "source": [
        "# Read GloVE embeddings\n",
        "\n",
        "path_to_glove_file = '/content/drive/MyDrive/emotion detection/data/glove.6B.50d.txt'\n",
        "# path_to_glove_file = '/content/drive/MyDrive/emotion detection/data/glove.6B.200d.txt'\n",
        "\n",
        "num_tokens = vocabSize\n",
        "embedding_dim = 50 #latent factors or features  \n",
        "hits = 0\n",
        "misses = 0\n",
        "embeddings_index = {}"
      ]
    },
    {
      "cell_type": "markdown",
      "metadata": {
        "id": "CXbYTcVGN8Sa"
      },
      "source": [
        "I will intialize an embedding matrix with all zero values and then looping through the vocabulary (as defined by the tokenizer object) to assign word vectors to the corresponding rows of the embedding matrix. The word_index attribute of the tokenizer object is a dictionary that maps words to their indices in the vocabulary.\n",
        "\n",
        "The embedding matrix will have a size of num_tokens rows and embedding_dim columns, where num_tokens is the size of the vocabulary and embedding_dim is the dimensionality of the word vectors.\n",
        "\n",
        "For each word in the vocabulary, the code looks up the corresponding word vector in the embeddings_index dictionary and assigns it to the corresponding row of the embedding matrix. If the word is not found in the embeddings_index dictionary (i.e., if embedding_vector is None), the code increments the misses counter and the row of the embedding matrix remains all-zeros. If the word is found in the embeddings_index dictionary, the code increments the hits counter and assigns the word vector to the corresponding row of the embedding matrix. Finally, the code prints out the number of words that were converted (hits) and the number that were not found in the embeddings_index dictionary (misses)."
      ]
    },
    {
      "cell_type": "code",
      "execution_count": 49,
      "metadata": {
        "colab": {
          "base_uri": "https://localhost:8080/"
        },
        "id": "0dRdooO1N2Hq",
        "outputId": "484d8c78-fb01-47b5-dbbe-7c586b9f6424"
      },
      "outputs": [
        {
          "name": "stdout",
          "output_type": "stream",
          "text": [
            "Found 400000 word vectors.\n",
            "Converted 353 words (26559 misses)\n"
          ]
        }
      ],
      "source": [
        "# Read word vectors\n",
        "with open(path_to_glove_file) as f:\n",
        "    for line in f:\n",
        "        word, coefs = line.split(maxsplit=1)\n",
        "        coefs = np.fromstring(coefs, \"f\", sep=\" \")\n",
        "        embeddings_index[word] = coefs\n",
        "print(\"Found %s word vectors.\" % len(embeddings_index))\n",
        "\n",
        "# Assign word vectors to our dictionary/vocabulary\n",
        "embedding_matrix = np.zeros((num_tokens, embedding_dim))\n",
        "for word, i in tokenizer.word_index.items():\n",
        "    embedding_vector = embeddings_index.get(word)\n",
        "    if embedding_vector is not None:\n",
        "        # Words not found in embedding index will be all-zeros.\n",
        "        # This includes the representation for \"padding\" and \"OOV\"\n",
        "        embedding_matrix[i] = embedding_vector\n",
        "        hits += 1\n",
        "    else:\n",
        "        misses += 1\n",
        "print(\"Converted %d words (%d misses)\" % (hits, misses))"
      ]
    },
    {
      "cell_type": "markdown",
      "metadata": {
        "id": "jB18R2ReODCY"
      },
      "source": [
        "## Modeling\n",
        "The model consists of several layers:\n",
        "\n",
        "An Embedding layer that takes in integer-encoded text and looks up the embedding vector for each word in the input. The input length is set to the length of the input sequences, and the weights are initialized with an embedding matrix that has been pre-trained on a large dataset. The embedding layer is not trainable, meaning that the weights of this layer will not be updated during training.\n",
        "\n",
        "Three Bidirectional layers, each of which applies a forward and backward LSTM to the input. LSTMs are a type of recurrent neural network that are able to capture long-term dependencies in sequential data. The dropout and recurrent dropout arguments specify the dropout rate to apply to the inputs and recurrent inputs of the LSTMs, respectively. The return_sequences argument specifies whether the LSTM should return the full sequences of outputs or just the last output of each sequence.\n",
        "\n",
        "A Dense layer that applies a linear transformation to the input to produce the output. The output has 7 units and uses the 'softmax' activation function, which means that it will output a probability distribution over the 7 classes."
      ]
    },
    {
      "cell_type": "code",
      "execution_count": 50,
      "metadata": {
        "id": "abXh-cefOADF"
      },
      "outputs": [],
      "source": [
        "nb_classes = 7\n",
        "batch_size = 128\n",
        "nb_epochs = 2"
      ]
    },
    {
      "cell_type": "code",
      "execution_count": 51,
      "metadata": {
        "colab": {
          "base_uri": "https://localhost:8080/"
        },
        "id": "W2MWqtzFOizE",
        "outputId": "471361a3-3599-41e2-aa4a-de38dae9e403"
      },
      "outputs": [
        {
          "name": "stderr",
          "output_type": "stream",
          "text": [
            "WARNING:tensorflow:Layer lstm will not use cuDNN kernels since it doesn't meet the criteria. It will use a generic GPU kernel as fallback when running on GPU.\n",
            "WARNING:tensorflow:Layer lstm will not use cuDNN kernels since it doesn't meet the criteria. It will use a generic GPU kernel as fallback when running on GPU.\n",
            "WARNING:tensorflow:Layer lstm will not use cuDNN kernels since it doesn't meet the criteria. It will use a generic GPU kernel as fallback when running on GPU.\n",
            "WARNING:tensorflow:Layer lstm_1 will not use cuDNN kernels since it doesn't meet the criteria. It will use a generic GPU kernel as fallback when running on GPU.\n",
            "WARNING:tensorflow:Layer lstm_1 will not use cuDNN kernels since it doesn't meet the criteria. It will use a generic GPU kernel as fallback when running on GPU.\n",
            "WARNING:tensorflow:Layer lstm_1 will not use cuDNN kernels since it doesn't meet the criteria. It will use a generic GPU kernel as fallback when running on GPU.\n",
            "WARNING:tensorflow:Layer lstm_2 will not use cuDNN kernels since it doesn't meet the criteria. It will use a generic GPU kernel as fallback when running on GPU.\n",
            "WARNING:tensorflow:Layer lstm_2 will not use cuDNN kernels since it doesn't meet the criteria. It will use a generic GPU kernel as fallback when running on GPU.\n",
            "WARNING:tensorflow:Layer lstm_2 will not use cuDNN kernels since it doesn't meet the criteria. It will use a generic GPU kernel as fallback when running on GPU.\n"
          ]
        },
        {
          "name": "stdout",
          "output_type": "stream",
          "text": [
            "Model: \"sequential\"\n",
            "_________________________________________________________________\n",
            " Layer (type)                Output Shape              Param #   \n",
            "=================================================================\n",
            " embedding (Embedding)       (None, 2007, 50)          1345650   \n",
            "                                                                 \n",
            " bidirectional (Bidirectiona  (None, 2007, 512)        628736    \n",
            " l)                                                              \n",
            "                                                                 \n",
            " bidirectional_1 (Bidirectio  (None, 2007, 256)        656384    \n",
            " nal)                                                            \n",
            "                                                                 \n",
            " bidirectional_2 (Bidirectio  (None, 256)              394240    \n",
            " nal)                                                            \n",
            "                                                                 \n",
            " dense (Dense)               (None, 7)                 1799      \n",
            "                                                                 \n",
            "=================================================================\n",
            "Total params: 3,026,809\n",
            "Trainable params: 1,681,159\n",
            "Non-trainable params: 1,345,650\n",
            "_________________________________________________________________\n"
          ]
        }
      ],
      "source": [
        "# Build neural network architecture\n",
        "\n",
        "# adam = Adam(learning_rate=0.005)\n",
        "adam = Adam(learning_rate=0.001)\n",
        "\n",
        "model = Sequential()\n",
        "model.add(Embedding(vocabSize, 50, input_length=X_train.shape[1], weights=[embedding_matrix], trainable=False))\n",
        "model.add(Bidirectional(LSTM(256, dropout=0.2,recurrent_dropout=0.2, return_sequences=True)))\n",
        "model.add(Bidirectional(LSTM(128, dropout=0.2,recurrent_dropout=0.2, return_sequences=True)))\n",
        "model.add(Bidirectional(LSTM(128, dropout=0.2,recurrent_dropout=0.2)))\n",
        "model.add(Dense(nb_classes, activation='softmax'))\n",
        "\n",
        "model.compile(loss='categorical_crossentropy', optimizer=adam, metrics=['accuracy'])\n",
        "model.summary()"
      ]
    },
    {
      "cell_type": "markdown",
      "metadata": {
        "id": "kLfZ0yu_Oq-3"
      },
      "source": [
        "## plot the model"
      ]
    },
    {
      "cell_type": "code",
      "execution_count": 52,
      "metadata": {
        "colab": {
          "base_uri": "https://localhost:8080/",
          "height": 644
        },
        "id": "zom4H-ffOlFH",
        "outputId": "2ed40519-f70a-4c7a-bb25-ef584ec065a2"
      },
      "outputs": [
        {
          "data": {
            "image/png": "[encoded data removed]",
            "text/plain": [
              "<IPython.core.display.Image object>"
            ]
          },
          "execution_count": 52,
          "metadata": {},
          "output_type": "execute_result"
        }
      ],
      "source": [
        "from keras.utils.vis_utils import plot_model\n",
        "plot_model(model, show_shapes=True)"
      ]
    },
    {
      "cell_type": "code",
      "execution_count": 53,
      "metadata": {
        "id": "noWstwo4OsBL"
      },
      "outputs": [],
      "source": [
        "#to stop the training when the loss starts to increase\n",
        "callback = EarlyStopping(\n",
        "    monitor=\"val_loss\",\n",
        "    patience=4,\n",
        "    restore_best_weights=True,\n",
        ")"
      ]
    },
    {
      "cell_type": "code",
      "execution_count": 54,
      "metadata": {
        "colab": {
          "base_uri": "https://localhost:8080/",
          "height": 1000
        },
        "id": "C3PIvpAxOtVW",
        "outputId": "c4de5db6-97b8-4405-9836-1b4efda6dbb3"
      },
      "outputs": [
        {
          "name": "stdout",
          "output_type": "stream",
          "text": [
            "Epoch 1/2\n"
          ]
        },
        {
          "ename": "ResourceExhaustedError",
          "evalue": "ignored",
          "output_type": "error",
          "traceback": [
            "\u001b[0;31m---------------------------------------------------------------------------\u001b[0m",
            "\u001b[0;31mResourceExhaustedError\u001b[0m                    Traceback (most recent call last)",
            "\u001b[0;32m<ipython-input-54-cf0ab680e157>\u001b[0m in \u001b[0;36m<module>\u001b[0;34m\u001b[0m\n\u001b[1;32m      1\u001b[0m \u001b[0;31m# Fit model\u001b[0m\u001b[0;34m\u001b[0m\u001b[0;34m\u001b[0m\u001b[0;34m\u001b[0m\u001b[0m\n\u001b[0;32m----> 2\u001b[0;31m history = model.fit(X_train,\n\u001b[0m\u001b[1;32m      3\u001b[0m                     \u001b[0my_train\u001b[0m\u001b[0;34m,\u001b[0m\u001b[0;34m\u001b[0m\u001b[0;34m\u001b[0m\u001b[0m\n\u001b[1;32m      4\u001b[0m                     \u001b[0mvalidation_data\u001b[0m\u001b[0;34m=\u001b[0m\u001b[0;34m(\u001b[0m\u001b[0mX_val\u001b[0m\u001b[0;34m,\u001b[0m \u001b[0my_val\u001b[0m\u001b[0;34m)\u001b[0m\u001b[0;34m,\u001b[0m\u001b[0;34m\u001b[0m\u001b[0;34m\u001b[0m\u001b[0m\n\u001b[1;32m      5\u001b[0m                     \u001b[0mbatch_size\u001b[0m\u001b[0;34m=\u001b[0m\u001b[0mbatch_size\u001b[0m\u001b[0;34m,\u001b[0m\u001b[0;34m\u001b[0m\u001b[0;34m\u001b[0m\u001b[0m\n",
            "\u001b[0;32m/usr/local/lib/python3.8/dist-packages/keras/utils/traceback_utils.py\u001b[0m in \u001b[0;36merror_handler\u001b[0;34m(*args, **kwargs)\u001b[0m\n\u001b[1;32m     65\u001b[0m     \u001b[0;32mexcept\u001b[0m \u001b[0mException\u001b[0m \u001b[0;32mas\u001b[0m \u001b[0me\u001b[0m\u001b[0;34m:\u001b[0m  \u001b[0;31m# pylint: disable=broad-except\u001b[0m\u001b[0;34m\u001b[0m\u001b[0;34m\u001b[0m\u001b[0m\n\u001b[1;32m     66\u001b[0m       \u001b[0mfiltered_tb\u001b[0m \u001b[0;34m=\u001b[0m \u001b[0m_process_traceback_frames\u001b[0m\u001b[0;34m(\u001b[0m\u001b[0me\u001b[0m\u001b[0;34m.\u001b[0m\u001b[0m__traceback__\u001b[0m\u001b[0;34m)\u001b[0m\u001b[0;34m\u001b[0m\u001b[0;34m\u001b[0m\u001b[0m\n\u001b[0;32m---> 67\u001b[0;31m       \u001b[0;32mraise\u001b[0m \u001b[0me\u001b[0m\u001b[0;34m.\u001b[0m\u001b[0mwith_traceback\u001b[0m\u001b[0;34m(\u001b[0m\u001b[0mfiltered_tb\u001b[0m\u001b[0;34m)\u001b[0m \u001b[0;32mfrom\u001b[0m \u001b[0;32mNone\u001b[0m\u001b[0;34m\u001b[0m\u001b[0;34m\u001b[0m\u001b[0m\n\u001b[0m\u001b[1;32m     68\u001b[0m     \u001b[0;32mfinally\u001b[0m\u001b[0;34m:\u001b[0m\u001b[0;34m\u001b[0m\u001b[0;34m\u001b[0m\u001b[0m\n\u001b[1;32m     69\u001b[0m       \u001b[0;32mdel\u001b[0m \u001b[0mfiltered_tb\u001b[0m\u001b[0;34m\u001b[0m\u001b[0;34m\u001b[0m\u001b[0m\n",
            "\u001b[0;32m/usr/local/lib/python3.8/dist-packages/tensorflow/python/eager/execute.py\u001b[0m in \u001b[0;36mquick_execute\u001b[0;34m(op_name, num_outputs, inputs, attrs, ctx, name)\u001b[0m\n\u001b[1;32m     52\u001b[0m   \u001b[0;32mtry\u001b[0m\u001b[0;34m:\u001b[0m\u001b[0;34m\u001b[0m\u001b[0;34m\u001b[0m\u001b[0m\n\u001b[1;32m     53\u001b[0m     \u001b[0mctx\u001b[0m\u001b[0;34m.\u001b[0m\u001b[0mensure_initialized\u001b[0m\u001b[0;34m(\u001b[0m\u001b[0;34m)\u001b[0m\u001b[0;34m\u001b[0m\u001b[0;34m\u001b[0m\u001b[0m\n\u001b[0;32m---> 54\u001b[0;31m     tensors = pywrap_tfe.TFE_Py_Execute(ctx._handle, device_name, op_name,\n\u001b[0m\u001b[1;32m     55\u001b[0m                                         inputs, attrs, num_outputs)\n\u001b[1;32m     56\u001b[0m   \u001b[0;32mexcept\u001b[0m \u001b[0mcore\u001b[0m\u001b[0;34m.\u001b[0m\u001b[0m_NotOkStatusException\u001b[0m \u001b[0;32mas\u001b[0m \u001b[0me\u001b[0m\u001b[0;34m:\u001b[0m\u001b[0;34m\u001b[0m\u001b[0;34m\u001b[0m\u001b[0m\n",
            "\u001b[0;31mResourceExhaustedError\u001b[0m: Graph execution error:\n\nDetected at node 'sequential/bidirectional/backward_lstm/transpose_1' defined at (most recent call last):\n    File \"/usr/lib/python3.8/runpy.py\", line 194, in _run_module_as_main\n      return _run_code(code, main_globals, None,\n    File \"/usr/lib/python3.8/runpy.py\", line 87, in _run_code\n      exec(code, run_globals)\n    File \"/usr/local/lib/python3.8/dist-packages/ipykernel_launcher.py\", line 16, in <module>\n      app.launch_new_instance()\n    File \"/usr/local/lib/python3.8/dist-packages/traitlets/config/application.py\", line 992, in launch_instance\n      app.start()\n    File \"/usr/local/lib/python3.8/dist-packages/ipykernel/kernelapp.py\", line 612, in start\n      self.io_loop.start()\n    File \"/usr/local/lib/python3.8/dist-packages/tornado/platform/asyncio.py\", line 149, in start\n      self.asyncio_loop.run_forever()\n    File \"/usr/lib/python3.8/asyncio/base_events.py\", line 570, in run_forever\n      self._run_once()\n    File \"/usr/lib/python3.8/asyncio/base_events.py\", line 1859, in _run_once\n      handle._run()\n    File \"/usr/lib/python3.8/asyncio/events.py\", line 81, in _run\n      self._context.run(self._callback, *self._args)\n    File \"/usr/local/lib/python3.8/dist-packages/tornado/ioloop.py\", line 690, in <lambda>\n      lambda f: self._run_callback(functools.partial(callback, future))\n    File \"/usr/local/lib/python3.8/dist-packages/tornado/ioloop.py\", line 743, in _run_callback\n      ret = callback()\n    File \"/usr/local/lib/python3.8/dist-packages/tornado/gen.py\", line 787, in inner\n      self.run()\n    File \"/usr/local/lib/python3.8/dist-packages/tornado/gen.py\", line 748, in run\n      yielded = self.gen.send(value)\n    File \"/usr/local/lib/python3.8/dist-packages/ipykernel/kernelbase.py\", line 381, in dispatch_queue\n      yield self.process_one()\n    File \"/usr/local/lib/python3.8/dist-packages/tornado/gen.py\", line 225, in wrapper\n      runner = Runner(result, future, yielded)\n    File \"/usr/local/lib/python3.8/dist-packages/tornado/gen.py\", line 714, in __init__\n      self.run()\n    File \"/usr/local/lib/python3.8/dist-packages/tornado/gen.py\", line 748, in run\n      yielded = self.gen.send(value)\n    File \"/usr/local/lib/python3.8/dist-packages/ipykernel/kernelbase.py\", line 365, in process_one\n      yield gen.maybe_future(dispatch(*args))\n    File \"/usr/local/lib/python3.8/dist-packages/tornado/gen.py\", line 209, in wrapper\n      yielded = next(result)\n    File \"/usr/local/lib/python3.8/dist-packages/ipykernel/kernelbase.py\", line 268, in dispatch_shell\n      yield gen.maybe_future(handler(stream, idents, msg))\n    File \"/usr/local/lib/python3.8/dist-packages/tornado/gen.py\", line 209, in wrapper\n      yielded = next(result)\n    File \"/usr/local/lib/python3.8/dist-packages/ipykernel/kernelbase.py\", line 543, in execute_request\n      self.do_execute(\n    File \"/usr/local/lib/python3.8/dist-packages/tornado/gen.py\", line 209, in wrapper\n      yielded = next(result)\n    File \"/usr/local/lib/python3.8/dist-packages/ipykernel/ipkernel.py\", line 306, in do_execute\n      res = shell.run_cell(code, store_history=store_history, silent=silent)\n    File \"/usr/local/lib/python3.8/dist-packages/ipykernel/zmqshell.py\", line 536, in run_cell\n      return super(ZMQInteractiveShell, self).run_cell(*args, **kwargs)\n    File \"/usr/local/lib/python3.8/dist-packages/IPython/core/interactiveshell.py\", line 2854, in run_cell\n      result = self._run_cell(\n    File \"/usr/local/lib/python3.8/dist-packages/IPython/core/interactiveshell.py\", line 2881, in _run_cell\n      return runner(coro)\n    File \"/usr/local/lib/python3.8/dist-packages/IPython/core/async_helpers.py\", line 68, in _pseudo_sync_runner\n      coro.send(None)\n    File \"/usr/local/lib/python3.8/dist-packages/IPython/core/interactiveshell.py\", line 3057, in run_cell_async\n      has_raised = await self.run_ast_nodes(code_ast.body, cell_name,\n    File \"/usr/local/lib/python3.8/dist-packages/IPython/core/interactiveshell.py\", line 3249, in run_ast_nodes\n      if (await self.run_code(code, result,  async_=asy)):\n    File \"/usr/local/lib/python3.8/dist-packages/IPython/core/interactiveshell.py\", line 3326, in run_code\n      exec(code_obj, self.user_global_ns, self.user_ns)\n    File \"<ipython-input-54-cf0ab680e157>\", line 2, in <module>\n      history = model.fit(X_train,\n    File \"/usr/local/lib/python3.8/dist-packages/keras/utils/traceback_utils.py\", line 64, in error_handler\n      return fn(*args, **kwargs)\n    File \"/usr/local/lib/python3.8/dist-packages/keras/engine/training.py\", line 1409, in fit\n      tmp_logs = self.train_function(iterator)\n    File \"/usr/local/lib/python3.8/dist-packages/keras/engine/training.py\", line 1051, in train_function\n      return step_function(self, iterator)\n    File \"/usr/local/lib/python3.8/dist-packages/keras/engine/training.py\", line 1040, in step_function\n      outputs = model.distribute_strategy.run(run_step, args=(data,))\n    File \"/usr/local/lib/python3.8/dist-packages/keras/engine/training.py\", line 1030, in run_step\n      outputs = model.train_step(data)\n    File \"/usr/local/lib/python3.8/dist-packages/keras/engine/training.py\", line 889, in train_step\n      y_pred = self(x, training=True)\n    File \"/usr/local/lib/python3.8/dist-packages/keras/utils/traceback_utils.py\", line 64, in error_handler\n      return fn(*args, **kwargs)\n    File \"/usr/local/lib/python3.8/dist-packages/keras/engine/training.py\", line 490, in __call__\n      return super().__call__(*args, **kwargs)\n    File \"/usr/local/lib/python3.8/dist-packages/keras/utils/traceback_utils.py\", line 64, in error_handler\n      return fn(*args, **kwargs)\n    File \"/usr/local/lib/python3.8/dist-packages/keras/engine/base_layer.py\", line 1014, in __call__\n      outputs = call_fn(inputs, *args, **kwargs)\n    File \"/usr/local/lib/python3.8/dist-packages/keras/utils/traceback_utils.py\", line 92, in error_handler\n      return fn(*args, **kwargs)\n    File \"/usr/local/lib/python3.8/dist-packages/keras/engine/sequential.py\", line 374, in call\n      return super(Sequential, self).call(inputs, training=training, mask=mask)\n    File \"/usr/local/lib/python3.8/dist-packages/keras/engine/functional.py\", line 458, in call\n      return self._run_internal_graph(\n    File \"/usr/local/lib/python3.8/dist-packages/keras/engine/functional.py\", line 596, in _run_internal_graph\n      outputs = node.layer(*args, **kwargs)\n    File \"/usr/local/lib/python3.8/dist-packages/keras/layers/rnn/bidirectional.py\", line 249, in __call__\n      return super(Bidirectional, self).__call__(inputs, **kwargs)\n    File \"/usr/local/lib/python3.8/dist-packages/keras/utils/traceback_utils.py\", line 64, in error_handler\n      return fn(*args, **kwargs)\n    File \"/usr/local/lib/python3.8/dist-packages/keras/engine/base_layer.py\", line 1014, in __call__\n      outputs = call_fn(inputs, *args, **kwargs)\n    File \"/usr/local/lib/python3.8/dist-packages/keras/utils/traceback_utils.py\", line 92, in error_handler\n      return fn(*args, **kwargs)\n    File \"/usr/local/lib/python3.8/dist-packages/keras/layers/rnn/bidirectional.py\", line 366, in call\n      y_rev = self.backward_layer(backward_inputs,\n    File \"/usr/local/lib/python3.8/dist-packages/keras/layers/rnn/base_rnn.py\", line 515, in __call__\n      return super(RNN, self).__call__(inputs, **kwargs)\n    File \"/usr/local/lib/python3.8/dist-packages/keras/utils/traceback_utils.py\", line 64, in error_handler\n      return fn(*args, **kwargs)\n    File \"/usr/local/lib/python3.8/dist-packages/keras/engine/base_layer.py\", line 1014, in __call__\n      outputs = call_fn(inputs, *args, **kwargs)\n    File \"/usr/local/lib/python3.8/dist-packages/keras/utils/traceback_utils.py\", line 92, in error_handler\n      return fn(*args, **kwargs)\n    File \"/usr/local/lib/python3.8/dist-packages/keras/layers/rnn/lstm.py\", line 574, in call\n      last_output, outputs, states = backend.rnn(\n    File \"/usr/local/lib/python3.8/dist-packages/keras/backend.py\", line 4805, in rnn\n      outputs = tf.nest.map_structure(swap_batch_timestep, outputs)\n    File \"/usr/local/lib/python3.8/dist-packages/keras/backend.py\", line 4473, in swap_batch_timestep\n      return tf.compat.v1.transpose(input_t, axes)\nNode: 'sequential/bidirectional/backward_lstm/transpose_1'\nOOM when allocating tensor with shape[128,2007,256] and type float on /job:localhost/replica:0/task:0/device:GPU:0 by allocator GPU_0_bfc\n\t [[{{node sequential/bidirectional/backward_lstm/transpose_1}}]]\nHint: If you want to see a list of allocated tensors when OOM happens, add report_tensor_allocations_upon_oom to RunOptions for current allocation info. This isn't available when running in Eager mode.\n [Op:__inference_train_function_20592]"
          ]
        }
      ],
      "source": [
        "# Fit model\n",
        "history = model.fit(X_train,\n",
        "                    y_train,\n",
        "                    validation_data=(X_val, y_val),\n",
        "                    batch_size=batch_size,\n",
        "                    epochs=nb_epochs,\n",
        "                    callbacks=[callback]\n",
        "                   )"
      ]
    }
  ],
  "metadata": {
    "accelerator": "GPU",
    "colab": {
      "provenance": []
    },
    "gpuClass": "standard",
    "kernelspec": {
      "display_name": "Python 3",
      "name": "python3"
    },
    "language_info": {
      "name": "python"
    }
  },
  "nbformat": 4,
  "nbformat_minor": 0
}
