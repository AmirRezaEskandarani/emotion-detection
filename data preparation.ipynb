{
  "nbformat": 4,
  "nbformat_minor": 0,
  "metadata": {
    "colab": {
      "provenance": []
    },
    "kernelspec": {
      "name": "python3",
      "display_name": "Python 3"
    },
    "language_info": {
      "name": "python"
    }
  },
  "cells": [
    {
      "cell_type": "code",
      "source": [
        "!pip install urlextract"
      ],
      "metadata": {
        "colab": {
          "base_uri": "https://localhost:8080/"
        },
        "id": "XMpodj082yjv",
        "outputId": "d9dd3294-6d11-4b55-9955-4f0deb76d96b"
      },
      "execution_count": 1,
      "outputs": [
        {
          "output_type": "stream",
          "name": "stdout",
          "text": [
            "Looking in indexes: https://pypi.org/simple, https://us-python.pkg.dev/colab-wheels/public/simple/\n",
            "Requirement already satisfied: urlextract in /usr/local/lib/python3.8/dist-packages (1.8.0)\n",
            "Requirement already satisfied: platformdirs in /usr/local/lib/python3.8/dist-packages (from urlextract) (2.6.0)\n",
            "Requirement already satisfied: filelock in /usr/local/lib/python3.8/dist-packages (from urlextract) (3.8.2)\n",
            "Requirement already satisfied: uritools in /usr/local/lib/python3.8/dist-packages (from urlextract) (4.0.1)\n",
            "Requirement already satisfied: idna in /usr/local/lib/python3.8/dist-packages (from urlextract) (2.10)\n"
          ]
        }
      ]
    },
    {
      "cell_type": "code",
      "source": [
        "!pip install emojis"
      ],
      "metadata": {
        "colab": {
          "base_uri": "https://localhost:8080/"
        },
        "id": "4fhOuysv2yha",
        "outputId": "c3aa2c79-d94f-4e61-ac1a-7fdb2cecfaab"
      },
      "execution_count": 2,
      "outputs": [
        {
          "output_type": "stream",
          "name": "stdout",
          "text": [
            "Looking in indexes: https://pypi.org/simple, https://us-python.pkg.dev/colab-wheels/public/simple/\n",
            "Requirement already satisfied: emojis in /usr/local/lib/python3.8/dist-packages (0.7.0)\n"
          ]
        }
      ]
    },
    {
      "cell_type": "code",
      "source": [
        "!pip install parsivar"
      ],
      "metadata": {
        "colab": {
          "base_uri": "https://localhost:8080/"
        },
        "id": "nsqUErLDAJx9",
        "outputId": "abd9ee42-1020-448f-8a59-b16f97939f27"
      },
      "execution_count": 3,
      "outputs": [
        {
          "output_type": "stream",
          "name": "stdout",
          "text": [
            "Looking in indexes: https://pypi.org/simple, https://us-python.pkg.dev/colab-wheels/public/simple/\n",
            "Requirement already satisfied: parsivar in /usr/local/lib/python3.8/dist-packages (0.2.3)\n",
            "Requirement already satisfied: nltk==3.4.5 in /usr/local/lib/python3.8/dist-packages (from parsivar) (3.4.5)\n",
            "Requirement already satisfied: six in /usr/local/lib/python3.8/dist-packages (from nltk==3.4.5->parsivar) (1.15.0)\n"
          ]
        }
      ]
    },
    {
      "cell_type": "code",
      "execution_count": 4,
      "metadata": {
        "id": "h71RMFFJNKL4"
      },
      "outputs": [],
      "source": [
        "import numpy as np\n",
        "import pandas as pd\n",
        "import matplotlib.pyplot as plt\n",
        "import seaborn as sns\n",
        "import nltk\n",
        "import re\n",
        "from urlextract import URLExtract\n",
        "import emojis\n",
        "from parsivar import FindStems\n"
      ]
    },
    {
      "cell_type": "code",
      "source": [
        "!pip install nltk\n",
        "nltk.download('punkt')"
      ],
      "metadata": {
        "colab": {
          "base_uri": "https://localhost:8080/"
        },
        "id": "E_E6Ad6Itp0h",
        "outputId": "994cd02d-cdfa-4d3e-f998-95268f3a485d"
      },
      "execution_count": 5,
      "outputs": [
        {
          "output_type": "stream",
          "name": "stdout",
          "text": [
            "Looking in indexes: https://pypi.org/simple, https://us-python.pkg.dev/colab-wheels/public/simple/\n",
            "Requirement already satisfied: nltk in /usr/local/lib/python3.8/dist-packages (3.4.5)\n",
            "Requirement already satisfied: six in /usr/local/lib/python3.8/dist-packages (from nltk) (1.15.0)\n"
          ]
        },
        {
          "output_type": "stream",
          "name": "stderr",
          "text": [
            "[nltk_data] Downloading package punkt to /root/nltk_data...\n",
            "[nltk_data]   Package punkt is already up-to-date!\n"
          ]
        },
        {
          "output_type": "execute_result",
          "data": {
            "text/plain": [
              "True"
            ]
          },
          "metadata": {},
          "execution_count": 5
        }
      ]
    },
    {
      "cell_type": "code",
      "source": [
        "from google.colab import drive\n",
        "drive.mount('/content/drive')"
      ],
      "metadata": {
        "colab": {
          "base_uri": "https://localhost:8080/"
        },
        "id": "OyP_IIY2N8Jc",
        "outputId": "4ec970ba-a2f5-4e09-fe9e-57098c141d84"
      },
      "execution_count": 6,
      "outputs": [
        {
          "output_type": "stream",
          "name": "stdout",
          "text": [
            "Drive already mounted at /content/drive; to attempt to forcibly remount, call drive.mount(\"/content/drive\", force_remount=True).\n"
          ]
        }
      ]
    },
    {
      "cell_type": "code",
      "source": [
        "df_train = pd.read_csv('/content/drive/MyDrive/emotion detection/data/basic/armanTrain.tsv', sep='\\t')\n",
        "df_test = pd.read_csv('/content/drive/MyDrive/emotion detection/data/basic/armanTest.tsv', sep='\\t')\n"
      ],
      "metadata": {
        "id": "1AAvbbCQNV0J"
      },
      "execution_count": 7,
      "outputs": []
    },
    {
      "cell_type": "code",
      "source": [
        "df_trian = df_train.drop_duplicates()\n",
        "df_test = df_test.drop_duplicates()"
      ],
      "metadata": {
        "id": "k-aIBVkTN8sr"
      },
      "execution_count": 8,
      "outputs": []
    },
    {
      "cell_type": "code",
      "source": [
        "df_train.info()"
      ],
      "metadata": {
        "colab": {
          "base_uri": "https://localhost:8080/"
        },
        "id": "RkZluLGlONNg",
        "outputId": "c9c9c912-0e0a-4736-a6d3-ecd7178c0385"
      },
      "execution_count": 9,
      "outputs": [
        {
          "output_type": "stream",
          "name": "stdout",
          "text": [
            "<class 'pandas.core.frame.DataFrame'>\n",
            "RangeIndex: 6125 entries, 0 to 6124\n",
            "Data columns (total 2 columns):\n",
            " #   Column  Non-Null Count  Dtype \n",
            "---  ------  --------------  ----- \n",
            " 0   text    6125 non-null   object\n",
            " 1   label   6125 non-null   object\n",
            "dtypes: object(2)\n",
            "memory usage: 95.8+ KB\n"
          ]
        }
      ]
    },
    {
      "cell_type": "code",
      "source": [
        "df_test.info()"
      ],
      "metadata": {
        "colab": {
          "base_uri": "https://localhost:8080/"
        },
        "id": "px1XC7s0ORkY",
        "outputId": "87c284da-7a7c-49a7-be38-2ce0b572f959"
      },
      "execution_count": 10,
      "outputs": [
        {
          "output_type": "stream",
          "name": "stdout",
          "text": [
            "<class 'pandas.core.frame.DataFrame'>\n",
            "Int64Index: 1151 entries, 0 to 1150\n",
            "Data columns (total 2 columns):\n",
            " #   Column  Non-Null Count  Dtype \n",
            "---  ------  --------------  ----- \n",
            " 0   text    1151 non-null   object\n",
            " 1   label   1151 non-null   object\n",
            "dtypes: object(2)\n",
            "memory usage: 27.0+ KB\n"
          ]
        }
      ]
    },
    {
      "cell_type": "code",
      "source": [
        "df_train.head()"
      ],
      "metadata": {
        "colab": {
          "base_uri": "https://localhost:8080/",
          "height": 206
        },
        "id": "qmmqYpYoPTVS",
        "outputId": "a1d29692-3988-4e9a-c8dd-835e58752345"
      },
      "execution_count": 11,
      "outputs": [
        {
          "output_type": "execute_result",
          "data": {
            "text/plain": [
              "                                                text  label\n",
              "0  خیلی کوچیک هستن و سایزشون بدرد نمیخوره میخوام ...    SAD\n",
              "1     از صدای پرنده دم دمای صبح متنفرم متنفرم متنفرم   HATE\n",
              "2   \"کیفیتش خیلی خوبه با شک خریدم ولی واقعا راضیم...    SAD\n",
              "3  چون همش با دوربین ثبت شده ، ایا میشه اعتراض زد...  OTHER\n",
              "4              اين وضع ب طرز خنده داري گريه داره ...    SAD"
            ],
            "text/html": [
              "\n",
              "  <div id=\"df-3057b0b6-c7fc-40ad-84ea-111406f49c94\">\n",
              "    <div class=\"colab-df-container\">\n",
              "      <div>\n",
              "<style scoped>\n",
              "    .dataframe tbody tr th:only-of-type {\n",
              "        vertical-align: middle;\n",
              "    }\n",
              "\n",
              "    .dataframe tbody tr th {\n",
              "        vertical-align: top;\n",
              "    }\n",
              "\n",
              "    .dataframe thead th {\n",
              "        text-align: right;\n",
              "    }\n",
              "</style>\n",
              "<table border=\"1\" class=\"dataframe\">\n",
              "  <thead>\n",
              "    <tr style=\"text-align: right;\">\n",
              "      <th></th>\n",
              "      <th>text</th>\n",
              "      <th>label</th>\n",
              "    </tr>\n",
              "  </thead>\n",
              "  <tbody>\n",
              "    <tr>\n",
              "      <th>0</th>\n",
              "      <td>خیلی کوچیک هستن و سایزشون بدرد نمیخوره میخوام ...</td>\n",
              "      <td>SAD</td>\n",
              "    </tr>\n",
              "    <tr>\n",
              "      <th>1</th>\n",
              "      <td>از صدای پرنده دم دمای صبح متنفرم متنفرم متنفرم</td>\n",
              "      <td>HATE</td>\n",
              "    </tr>\n",
              "    <tr>\n",
              "      <th>2</th>\n",
              "      <td>\"کیفیتش خیلی خوبه با شک خریدم ولی واقعا راضیم...</td>\n",
              "      <td>SAD</td>\n",
              "    </tr>\n",
              "    <tr>\n",
              "      <th>3</th>\n",
              "      <td>چون همش با دوربین ثبت شده ، ایا میشه اعتراض زد...</td>\n",
              "      <td>OTHER</td>\n",
              "    </tr>\n",
              "    <tr>\n",
              "      <th>4</th>\n",
              "      <td>اين وضع ب طرز خنده داري گريه داره ...</td>\n",
              "      <td>SAD</td>\n",
              "    </tr>\n",
              "  </tbody>\n",
              "</table>\n",
              "</div>\n",
              "      <button class=\"colab-df-convert\" onclick=\"convertToInteractive('df-3057b0b6-c7fc-40ad-84ea-111406f49c94')\"\n",
              "              title=\"Convert this dataframe to an interactive table.\"\n",
              "              style=\"display:none;\">\n",
              "        \n",
              "  <svg xmlns=\"http://www.w3.org/2000/svg\" height=\"24px\"viewBox=\"0 0 24 24\"\n",
              "       width=\"24px\">\n",
              "    <path d=\"M0 0h24v24H0V0z\" fill=\"none\"/>\n",
              "    <path d=\"M18.56 5.44l.94 2.06.94-2.06 2.06-.94-2.06-.94-.94-2.06-.94 2.06-2.06.94zm-11 1L8.5 8.5l.94-2.06 2.06-.94-2.06-.94L8.5 2.5l-.94 2.06-2.06.94zm10 10l.94 2.06.94-2.06 2.06-.94-2.06-.94-.94-2.06-.94 2.06-2.06.94z\"/><path d=\"M17.41 7.96l-1.37-1.37c-.4-.4-.92-.59-1.43-.59-.52 0-1.04.2-1.43.59L10.3 9.45l-7.72 7.72c-.78.78-.78 2.05 0 2.83L4 21.41c.39.39.9.59 1.41.59.51 0 1.02-.2 1.41-.59l7.78-7.78 2.81-2.81c.8-.78.8-2.07 0-2.86zM5.41 20L4 18.59l7.72-7.72 1.47 1.35L5.41 20z\"/>\n",
              "  </svg>\n",
              "      </button>\n",
              "      \n",
              "  <style>\n",
              "    .colab-df-container {\n",
              "      display:flex;\n",
              "      flex-wrap:wrap;\n",
              "      gap: 12px;\n",
              "    }\n",
              "\n",
              "    .colab-df-convert {\n",
              "      background-color: #E8F0FE;\n",
              "      border: none;\n",
              "      border-radius: 50%;\n",
              "      cursor: pointer;\n",
              "      display: none;\n",
              "      fill: #1967D2;\n",
              "      height: 32px;\n",
              "      padding: 0 0 0 0;\n",
              "      width: 32px;\n",
              "    }\n",
              "\n",
              "    .colab-df-convert:hover {\n",
              "      background-color: #E2EBFA;\n",
              "      box-shadow: 0px 1px 2px rgba(60, 64, 67, 0.3), 0px 1px 3px 1px rgba(60, 64, 67, 0.15);\n",
              "      fill: #174EA6;\n",
              "    }\n",
              "\n",
              "    [theme=dark] .colab-df-convert {\n",
              "      background-color: #3B4455;\n",
              "      fill: #D2E3FC;\n",
              "    }\n",
              "\n",
              "    [theme=dark] .colab-df-convert:hover {\n",
              "      background-color: #434B5C;\n",
              "      box-shadow: 0px 1px 3px 1px rgba(0, 0, 0, 0.15);\n",
              "      filter: drop-shadow(0px 1px 2px rgba(0, 0, 0, 0.3));\n",
              "      fill: #FFFFFF;\n",
              "    }\n",
              "  </style>\n",
              "\n",
              "      <script>\n",
              "        const buttonEl =\n",
              "          document.querySelector('#df-3057b0b6-c7fc-40ad-84ea-111406f49c94 button.colab-df-convert');\n",
              "        buttonEl.style.display =\n",
              "          google.colab.kernel.accessAllowed ? 'block' : 'none';\n",
              "\n",
              "        async function convertToInteractive(key) {\n",
              "          const element = document.querySelector('#df-3057b0b6-c7fc-40ad-84ea-111406f49c94');\n",
              "          const dataTable =\n",
              "            await google.colab.kernel.invokeFunction('convertToInteractive',\n",
              "                                                     [key], {});\n",
              "          if (!dataTable) return;\n",
              "\n",
              "          const docLinkHtml = 'Like what you see? Visit the ' +\n",
              "            '<a target=\"_blank\" href=https://colab.research.google.com/notebooks/data_table.ipynb>data table notebook</a>'\n",
              "            + ' to learn more about interactive tables.';\n",
              "          element.innerHTML = '';\n",
              "          dataTable['output_type'] = 'display_data';\n",
              "          await google.colab.output.renderOutput(dataTable, element);\n",
              "          const docLink = document.createElement('div');\n",
              "          docLink.innerHTML = docLinkHtml;\n",
              "          element.appendChild(docLink);\n",
              "        }\n",
              "      </script>\n",
              "    </div>\n",
              "  </div>\n",
              "  "
            ]
          },
          "metadata": {},
          "execution_count": 11
        }
      ]
    },
    {
      "cell_type": "code",
      "source": [
        "df_train.tail()"
      ],
      "metadata": {
        "colab": {
          "base_uri": "https://localhost:8080/",
          "height": 206
        },
        "id": "3cY5uiGJP1sA",
        "outputId": "41c0d540-8634-498c-cf73-cebac3d23b79"
      },
      "execution_count": 12,
      "outputs": [
        {
          "output_type": "execute_result",
          "data": {
            "text/plain": [
              "                                                   text     label\n",
              "6120  مرحوم پیش بینی آبکی زیاد میکرد     مرحوم عجب آ...  SURPRISE\n",
              "6121  کلا عین اعتقادات و توئیت زدناتون ... !!   در ق...     ANGRY\n",
              "6122  خب وقتی میگی کسی بیاد مارو بگیره یارو ترس میکن...      FEAR\n",
              "6123  همون هارو     مگه آهنگ جدیدای خواننده‌های دهه ...  SURPRISE\n",
              "6124                            نیم دگیرش چطور حل نیشد      OTHER"
            ],
            "text/html": [
              "\n",
              "  <div id=\"df-a9d16ed2-1e0c-4b52-a7af-40ea73867884\">\n",
              "    <div class=\"colab-df-container\">\n",
              "      <div>\n",
              "<style scoped>\n",
              "    .dataframe tbody tr th:only-of-type {\n",
              "        vertical-align: middle;\n",
              "    }\n",
              "\n",
              "    .dataframe tbody tr th {\n",
              "        vertical-align: top;\n",
              "    }\n",
              "\n",
              "    .dataframe thead th {\n",
              "        text-align: right;\n",
              "    }\n",
              "</style>\n",
              "<table border=\"1\" class=\"dataframe\">\n",
              "  <thead>\n",
              "    <tr style=\"text-align: right;\">\n",
              "      <th></th>\n",
              "      <th>text</th>\n",
              "      <th>label</th>\n",
              "    </tr>\n",
              "  </thead>\n",
              "  <tbody>\n",
              "    <tr>\n",
              "      <th>6120</th>\n",
              "      <td>مرحوم پیش بینی آبکی زیاد میکرد     مرحوم عجب آ...</td>\n",
              "      <td>SURPRISE</td>\n",
              "    </tr>\n",
              "    <tr>\n",
              "      <th>6121</th>\n",
              "      <td>کلا عین اعتقادات و توئیت زدناتون ... !!   در ق...</td>\n",
              "      <td>ANGRY</td>\n",
              "    </tr>\n",
              "    <tr>\n",
              "      <th>6122</th>\n",
              "      <td>خب وقتی میگی کسی بیاد مارو بگیره یارو ترس میکن...</td>\n",
              "      <td>FEAR</td>\n",
              "    </tr>\n",
              "    <tr>\n",
              "      <th>6123</th>\n",
              "      <td>همون هارو     مگه آهنگ جدیدای خواننده‌های دهه ...</td>\n",
              "      <td>SURPRISE</td>\n",
              "    </tr>\n",
              "    <tr>\n",
              "      <th>6124</th>\n",
              "      <td>نیم دگیرش چطور حل نیشد</td>\n",
              "      <td>OTHER</td>\n",
              "    </tr>\n",
              "  </tbody>\n",
              "</table>\n",
              "</div>\n",
              "      <button class=\"colab-df-convert\" onclick=\"convertToInteractive('df-a9d16ed2-1e0c-4b52-a7af-40ea73867884')\"\n",
              "              title=\"Convert this dataframe to an interactive table.\"\n",
              "              style=\"display:none;\">\n",
              "        \n",
              "  <svg xmlns=\"http://www.w3.org/2000/svg\" height=\"24px\"viewBox=\"0 0 24 24\"\n",
              "       width=\"24px\">\n",
              "    <path d=\"M0 0h24v24H0V0z\" fill=\"none\"/>\n",
              "    <path d=\"M18.56 5.44l.94 2.06.94-2.06 2.06-.94-2.06-.94-.94-2.06-.94 2.06-2.06.94zm-11 1L8.5 8.5l.94-2.06 2.06-.94-2.06-.94L8.5 2.5l-.94 2.06-2.06.94zm10 10l.94 2.06.94-2.06 2.06-.94-2.06-.94-.94-2.06-.94 2.06-2.06.94z\"/><path d=\"M17.41 7.96l-1.37-1.37c-.4-.4-.92-.59-1.43-.59-.52 0-1.04.2-1.43.59L10.3 9.45l-7.72 7.72c-.78.78-.78 2.05 0 2.83L4 21.41c.39.39.9.59 1.41.59.51 0 1.02-.2 1.41-.59l7.78-7.78 2.81-2.81c.8-.78.8-2.07 0-2.86zM5.41 20L4 18.59l7.72-7.72 1.47 1.35L5.41 20z\"/>\n",
              "  </svg>\n",
              "      </button>\n",
              "      \n",
              "  <style>\n",
              "    .colab-df-container {\n",
              "      display:flex;\n",
              "      flex-wrap:wrap;\n",
              "      gap: 12px;\n",
              "    }\n",
              "\n",
              "    .colab-df-convert {\n",
              "      background-color: #E8F0FE;\n",
              "      border: none;\n",
              "      border-radius: 50%;\n",
              "      cursor: pointer;\n",
              "      display: none;\n",
              "      fill: #1967D2;\n",
              "      height: 32px;\n",
              "      padding: 0 0 0 0;\n",
              "      width: 32px;\n",
              "    }\n",
              "\n",
              "    .colab-df-convert:hover {\n",
              "      background-color: #E2EBFA;\n",
              "      box-shadow: 0px 1px 2px rgba(60, 64, 67, 0.3), 0px 1px 3px 1px rgba(60, 64, 67, 0.15);\n",
              "      fill: #174EA6;\n",
              "    }\n",
              "\n",
              "    [theme=dark] .colab-df-convert {\n",
              "      background-color: #3B4455;\n",
              "      fill: #D2E3FC;\n",
              "    }\n",
              "\n",
              "    [theme=dark] .colab-df-convert:hover {\n",
              "      background-color: #434B5C;\n",
              "      box-shadow: 0px 1px 3px 1px rgba(0, 0, 0, 0.15);\n",
              "      filter: drop-shadow(0px 1px 2px rgba(0, 0, 0, 0.3));\n",
              "      fill: #FFFFFF;\n",
              "    }\n",
              "  </style>\n",
              "\n",
              "      <script>\n",
              "        const buttonEl =\n",
              "          document.querySelector('#df-a9d16ed2-1e0c-4b52-a7af-40ea73867884 button.colab-df-convert');\n",
              "        buttonEl.style.display =\n",
              "          google.colab.kernel.accessAllowed ? 'block' : 'none';\n",
              "\n",
              "        async function convertToInteractive(key) {\n",
              "          const element = document.querySelector('#df-a9d16ed2-1e0c-4b52-a7af-40ea73867884');\n",
              "          const dataTable =\n",
              "            await google.colab.kernel.invokeFunction('convertToInteractive',\n",
              "                                                     [key], {});\n",
              "          if (!dataTable) return;\n",
              "\n",
              "          const docLinkHtml = 'Like what you see? Visit the ' +\n",
              "            '<a target=\"_blank\" href=https://colab.research.google.com/notebooks/data_table.ipynb>data table notebook</a>'\n",
              "            + ' to learn more about interactive tables.';\n",
              "          element.innerHTML = '';\n",
              "          dataTable['output_type'] = 'display_data';\n",
              "          await google.colab.output.renderOutput(dataTable, element);\n",
              "          const docLink = document.createElement('div');\n",
              "          docLink.innerHTML = docLinkHtml;\n",
              "          element.appendChild(docLink);\n",
              "        }\n",
              "      </script>\n",
              "    </div>\n",
              "  </div>\n",
              "  "
            ]
          },
          "metadata": {},
          "execution_count": 12
        }
      ]
    },
    {
      "cell_type": "code",
      "source": [
        "df_test.head()"
      ],
      "metadata": {
        "colab": {
          "base_uri": "https://localhost:8080/",
          "height": 206
        },
        "id": "gNohYbEMPXfx",
        "outputId": "a44d35db-ae47-485a-ad05-71279c274204"
      },
      "execution_count": 13,
      "outputs": [
        {
          "output_type": "execute_result",
          "data": {
            "text/plain": [
              "                                                text  label\n",
              "0  اين شايد اولين عزاى عمومى واقعى است كه ياد دار...    SAD\n",
              "1  دیشب بعد از ارسال تویت مربوط به آثار باستانی ت...  HAPPY\n",
              "2   کدوم شعبه پول نداده، بگو الان برات آمار دقیق ...  OTHER\n",
              "3  امروز وسط یه بحث با بابا مامانم گفتم آدم باید ...  HAPPY\n",
              "4  امشب گفت نامزدی دوستش که ادم روشنفکری است بهم ...    SAD"
            ],
            "text/html": [
              "\n",
              "  <div id=\"df-617874c2-6bbc-41a7-8830-802024d50737\">\n",
              "    <div class=\"colab-df-container\">\n",
              "      <div>\n",
              "<style scoped>\n",
              "    .dataframe tbody tr th:only-of-type {\n",
              "        vertical-align: middle;\n",
              "    }\n",
              "\n",
              "    .dataframe tbody tr th {\n",
              "        vertical-align: top;\n",
              "    }\n",
              "\n",
              "    .dataframe thead th {\n",
              "        text-align: right;\n",
              "    }\n",
              "</style>\n",
              "<table border=\"1\" class=\"dataframe\">\n",
              "  <thead>\n",
              "    <tr style=\"text-align: right;\">\n",
              "      <th></th>\n",
              "      <th>text</th>\n",
              "      <th>label</th>\n",
              "    </tr>\n",
              "  </thead>\n",
              "  <tbody>\n",
              "    <tr>\n",
              "      <th>0</th>\n",
              "      <td>اين شايد اولين عزاى عمومى واقعى است كه ياد دار...</td>\n",
              "      <td>SAD</td>\n",
              "    </tr>\n",
              "    <tr>\n",
              "      <th>1</th>\n",
              "      <td>دیشب بعد از ارسال تویت مربوط به آثار باستانی ت...</td>\n",
              "      <td>HAPPY</td>\n",
              "    </tr>\n",
              "    <tr>\n",
              "      <th>2</th>\n",
              "      <td>کدوم شعبه پول نداده، بگو الان برات آمار دقیق ...</td>\n",
              "      <td>OTHER</td>\n",
              "    </tr>\n",
              "    <tr>\n",
              "      <th>3</th>\n",
              "      <td>امروز وسط یه بحث با بابا مامانم گفتم آدم باید ...</td>\n",
              "      <td>HAPPY</td>\n",
              "    </tr>\n",
              "    <tr>\n",
              "      <th>4</th>\n",
              "      <td>امشب گفت نامزدی دوستش که ادم روشنفکری است بهم ...</td>\n",
              "      <td>SAD</td>\n",
              "    </tr>\n",
              "  </tbody>\n",
              "</table>\n",
              "</div>\n",
              "      <button class=\"colab-df-convert\" onclick=\"convertToInteractive('df-617874c2-6bbc-41a7-8830-802024d50737')\"\n",
              "              title=\"Convert this dataframe to an interactive table.\"\n",
              "              style=\"display:none;\">\n",
              "        \n",
              "  <svg xmlns=\"http://www.w3.org/2000/svg\" height=\"24px\"viewBox=\"0 0 24 24\"\n",
              "       width=\"24px\">\n",
              "    <path d=\"M0 0h24v24H0V0z\" fill=\"none\"/>\n",
              "    <path d=\"M18.56 5.44l.94 2.06.94-2.06 2.06-.94-2.06-.94-.94-2.06-.94 2.06-2.06.94zm-11 1L8.5 8.5l.94-2.06 2.06-.94-2.06-.94L8.5 2.5l-.94 2.06-2.06.94zm10 10l.94 2.06.94-2.06 2.06-.94-2.06-.94-.94-2.06-.94 2.06-2.06.94z\"/><path d=\"M17.41 7.96l-1.37-1.37c-.4-.4-.92-.59-1.43-.59-.52 0-1.04.2-1.43.59L10.3 9.45l-7.72 7.72c-.78.78-.78 2.05 0 2.83L4 21.41c.39.39.9.59 1.41.59.51 0 1.02-.2 1.41-.59l7.78-7.78 2.81-2.81c.8-.78.8-2.07 0-2.86zM5.41 20L4 18.59l7.72-7.72 1.47 1.35L5.41 20z\"/>\n",
              "  </svg>\n",
              "      </button>\n",
              "      \n",
              "  <style>\n",
              "    .colab-df-container {\n",
              "      display:flex;\n",
              "      flex-wrap:wrap;\n",
              "      gap: 12px;\n",
              "    }\n",
              "\n",
              "    .colab-df-convert {\n",
              "      background-color: #E8F0FE;\n",
              "      border: none;\n",
              "      border-radius: 50%;\n",
              "      cursor: pointer;\n",
              "      display: none;\n",
              "      fill: #1967D2;\n",
              "      height: 32px;\n",
              "      padding: 0 0 0 0;\n",
              "      width: 32px;\n",
              "    }\n",
              "\n",
              "    .colab-df-convert:hover {\n",
              "      background-color: #E2EBFA;\n",
              "      box-shadow: 0px 1px 2px rgba(60, 64, 67, 0.3), 0px 1px 3px 1px rgba(60, 64, 67, 0.15);\n",
              "      fill: #174EA6;\n",
              "    }\n",
              "\n",
              "    [theme=dark] .colab-df-convert {\n",
              "      background-color: #3B4455;\n",
              "      fill: #D2E3FC;\n",
              "    }\n",
              "\n",
              "    [theme=dark] .colab-df-convert:hover {\n",
              "      background-color: #434B5C;\n",
              "      box-shadow: 0px 1px 3px 1px rgba(0, 0, 0, 0.15);\n",
              "      filter: drop-shadow(0px 1px 2px rgba(0, 0, 0, 0.3));\n",
              "      fill: #FFFFFF;\n",
              "    }\n",
              "  </style>\n",
              "\n",
              "      <script>\n",
              "        const buttonEl =\n",
              "          document.querySelector('#df-617874c2-6bbc-41a7-8830-802024d50737 button.colab-df-convert');\n",
              "        buttonEl.style.display =\n",
              "          google.colab.kernel.accessAllowed ? 'block' : 'none';\n",
              "\n",
              "        async function convertToInteractive(key) {\n",
              "          const element = document.querySelector('#df-617874c2-6bbc-41a7-8830-802024d50737');\n",
              "          const dataTable =\n",
              "            await google.colab.kernel.invokeFunction('convertToInteractive',\n",
              "                                                     [key], {});\n",
              "          if (!dataTable) return;\n",
              "\n",
              "          const docLinkHtml = 'Like what you see? Visit the ' +\n",
              "            '<a target=\"_blank\" href=https://colab.research.google.com/notebooks/data_table.ipynb>data table notebook</a>'\n",
              "            + ' to learn more about interactive tables.';\n",
              "          element.innerHTML = '';\n",
              "          dataTable['output_type'] = 'display_data';\n",
              "          await google.colab.output.renderOutput(dataTable, element);\n",
              "          const docLink = document.createElement('div');\n",
              "          docLink.innerHTML = docLinkHtml;\n",
              "          element.appendChild(docLink);\n",
              "        }\n",
              "      </script>\n",
              "    </div>\n",
              "  </div>\n",
              "  "
            ]
          },
          "metadata": {},
          "execution_count": 13
        }
      ]
    },
    {
      "cell_type": "code",
      "source": [
        "df_test.tail()"
      ],
      "metadata": {
        "colab": {
          "base_uri": "https://localhost:8080/",
          "height": 206
        },
        "id": "qRg3w5b1P4SM",
        "outputId": "8e28906d-3c4c-4749-8387-d0dd884c33bf"
      },
      "execution_count": 14,
      "outputs": [
        {
          "output_type": "execute_result",
          "data": {
            "text/plain": [
              "                                                   text  label\n",
              "1146  یعنی این آهنگ مرغ سحر جوری ساخته شده و روی این...  HAPPY\n",
              "1147  درود بر همه ایرانیان شریف که در این سرما در تظ...  HAPPY\n",
              "1148  امروز تولدم است،عید است ولی شاد نیستم،عید و تو...    SAD\n",
              "1149               لعنت به اونی که دلتنگ نگهت میداره...    SAD\n",
              "1150  من در شگفت انگیز و قبل از بالا رفتن قیمت ها به...  HAPPY"
            ],
            "text/html": [
              "\n",
              "  <div id=\"df-864edcd5-5d9a-440f-80a3-9ffc44af7b4c\">\n",
              "    <div class=\"colab-df-container\">\n",
              "      <div>\n",
              "<style scoped>\n",
              "    .dataframe tbody tr th:only-of-type {\n",
              "        vertical-align: middle;\n",
              "    }\n",
              "\n",
              "    .dataframe tbody tr th {\n",
              "        vertical-align: top;\n",
              "    }\n",
              "\n",
              "    .dataframe thead th {\n",
              "        text-align: right;\n",
              "    }\n",
              "</style>\n",
              "<table border=\"1\" class=\"dataframe\">\n",
              "  <thead>\n",
              "    <tr style=\"text-align: right;\">\n",
              "      <th></th>\n",
              "      <th>text</th>\n",
              "      <th>label</th>\n",
              "    </tr>\n",
              "  </thead>\n",
              "  <tbody>\n",
              "    <tr>\n",
              "      <th>1146</th>\n",
              "      <td>یعنی این آهنگ مرغ سحر جوری ساخته شده و روی این...</td>\n",
              "      <td>HAPPY</td>\n",
              "    </tr>\n",
              "    <tr>\n",
              "      <th>1147</th>\n",
              "      <td>درود بر همه ایرانیان شریف که در این سرما در تظ...</td>\n",
              "      <td>HAPPY</td>\n",
              "    </tr>\n",
              "    <tr>\n",
              "      <th>1148</th>\n",
              "      <td>امروز تولدم است،عید است ولی شاد نیستم،عید و تو...</td>\n",
              "      <td>SAD</td>\n",
              "    </tr>\n",
              "    <tr>\n",
              "      <th>1149</th>\n",
              "      <td>لعنت به اونی که دلتنگ نگهت میداره...</td>\n",
              "      <td>SAD</td>\n",
              "    </tr>\n",
              "    <tr>\n",
              "      <th>1150</th>\n",
              "      <td>من در شگفت انگیز و قبل از بالا رفتن قیمت ها به...</td>\n",
              "      <td>HAPPY</td>\n",
              "    </tr>\n",
              "  </tbody>\n",
              "</table>\n",
              "</div>\n",
              "      <button class=\"colab-df-convert\" onclick=\"convertToInteractive('df-864edcd5-5d9a-440f-80a3-9ffc44af7b4c')\"\n",
              "              title=\"Convert this dataframe to an interactive table.\"\n",
              "              style=\"display:none;\">\n",
              "        \n",
              "  <svg xmlns=\"http://www.w3.org/2000/svg\" height=\"24px\"viewBox=\"0 0 24 24\"\n",
              "       width=\"24px\">\n",
              "    <path d=\"M0 0h24v24H0V0z\" fill=\"none\"/>\n",
              "    <path d=\"M18.56 5.44l.94 2.06.94-2.06 2.06-.94-2.06-.94-.94-2.06-.94 2.06-2.06.94zm-11 1L8.5 8.5l.94-2.06 2.06-.94-2.06-.94L8.5 2.5l-.94 2.06-2.06.94zm10 10l.94 2.06.94-2.06 2.06-.94-2.06-.94-.94-2.06-.94 2.06-2.06.94z\"/><path d=\"M17.41 7.96l-1.37-1.37c-.4-.4-.92-.59-1.43-.59-.52 0-1.04.2-1.43.59L10.3 9.45l-7.72 7.72c-.78.78-.78 2.05 0 2.83L4 21.41c.39.39.9.59 1.41.59.51 0 1.02-.2 1.41-.59l7.78-7.78 2.81-2.81c.8-.78.8-2.07 0-2.86zM5.41 20L4 18.59l7.72-7.72 1.47 1.35L5.41 20z\"/>\n",
              "  </svg>\n",
              "      </button>\n",
              "      \n",
              "  <style>\n",
              "    .colab-df-container {\n",
              "      display:flex;\n",
              "      flex-wrap:wrap;\n",
              "      gap: 12px;\n",
              "    }\n",
              "\n",
              "    .colab-df-convert {\n",
              "      background-color: #E8F0FE;\n",
              "      border: none;\n",
              "      border-radius: 50%;\n",
              "      cursor: pointer;\n",
              "      display: none;\n",
              "      fill: #1967D2;\n",
              "      height: 32px;\n",
              "      padding: 0 0 0 0;\n",
              "      width: 32px;\n",
              "    }\n",
              "\n",
              "    .colab-df-convert:hover {\n",
              "      background-color: #E2EBFA;\n",
              "      box-shadow: 0px 1px 2px rgba(60, 64, 67, 0.3), 0px 1px 3px 1px rgba(60, 64, 67, 0.15);\n",
              "      fill: #174EA6;\n",
              "    }\n",
              "\n",
              "    [theme=dark] .colab-df-convert {\n",
              "      background-color: #3B4455;\n",
              "      fill: #D2E3FC;\n",
              "    }\n",
              "\n",
              "    [theme=dark] .colab-df-convert:hover {\n",
              "      background-color: #434B5C;\n",
              "      box-shadow: 0px 1px 3px 1px rgba(0, 0, 0, 0.15);\n",
              "      filter: drop-shadow(0px 1px 2px rgba(0, 0, 0, 0.3));\n",
              "      fill: #FFFFFF;\n",
              "    }\n",
              "  </style>\n",
              "\n",
              "      <script>\n",
              "        const buttonEl =\n",
              "          document.querySelector('#df-864edcd5-5d9a-440f-80a3-9ffc44af7b4c button.colab-df-convert');\n",
              "        buttonEl.style.display =\n",
              "          google.colab.kernel.accessAllowed ? 'block' : 'none';\n",
              "\n",
              "        async function convertToInteractive(key) {\n",
              "          const element = document.querySelector('#df-864edcd5-5d9a-440f-80a3-9ffc44af7b4c');\n",
              "          const dataTable =\n",
              "            await google.colab.kernel.invokeFunction('convertToInteractive',\n",
              "                                                     [key], {});\n",
              "          if (!dataTable) return;\n",
              "\n",
              "          const docLinkHtml = 'Like what you see? Visit the ' +\n",
              "            '<a target=\"_blank\" href=https://colab.research.google.com/notebooks/data_table.ipynb>data table notebook</a>'\n",
              "            + ' to learn more about interactive tables.';\n",
              "          element.innerHTML = '';\n",
              "          dataTable['output_type'] = 'display_data';\n",
              "          await google.colab.output.renderOutput(dataTable, element);\n",
              "          const docLink = document.createElement('div');\n",
              "          docLink.innerHTML = docLinkHtml;\n",
              "          element.appendChild(docLink);\n",
              "        }\n",
              "      </script>\n",
              "    </div>\n",
              "  </div>\n",
              "  "
            ]
          },
          "metadata": {},
          "execution_count": 14
        }
      ]
    },
    {
      "cell_type": "code",
      "source": [
        "df_test['label'].value_counts()\n"
      ],
      "metadata": {
        "colab": {
          "base_uri": "https://localhost:8080/"
        },
        "id": "VdA8nX1aOWFY",
        "outputId": "78a73cbd-c6dc-4adf-ff9c-a635a9ab1c3d"
      },
      "execution_count": 15,
      "outputs": [
        {
          "output_type": "execute_result",
          "data": {
            "text/plain": [
              "HAPPY       275\n",
              "SAD         262\n",
              "OTHER       193\n",
              "ANGRY       154\n",
              "SURPRISE    145\n",
              "HATE         65\n",
              "FEAR         57\n",
              "Name: label, dtype: int64"
            ]
          },
          "metadata": {},
          "execution_count": 15
        }
      ]
    },
    {
      "cell_type": "code",
      "source": [
        "df_train['label'].value_counts()"
      ],
      "metadata": {
        "colab": {
          "base_uri": "https://localhost:8080/"
        },
        "id": "Tgu7Xg5XOjVA",
        "outputId": "ee28d8e3-df6c-4475-d522-f32f8f1c6cca"
      },
      "execution_count": 16,
      "outputs": [
        {
          "output_type": "execute_result",
          "data": {
            "text/plain": [
              "OTHER       1681\n",
              "ANGRY        923\n",
              "SAD          896\n",
              "FEAR         757\n",
              "SURPRISE     739\n",
              "HAPPY        618\n",
              "HATE         511\n",
              "Name: label, dtype: int64"
            ]
          },
          "metadata": {},
          "execution_count": 16
        }
      ]
    },
    {
      "cell_type": "code",
      "source": [
        "plt.style.use('ggplot')\n",
        "plt.figure(figsize=(10,6))\n",
        "sns.countplot(x='label', data=df_test).set(title='Emotions');"
      ],
      "metadata": {
        "colab": {
          "base_uri": "https://localhost:8080/",
          "height": 408
        },
        "id": "f2FE2fTlOnxB",
        "outputId": "550e6889-f3f4-4707-b0bc-f882234776eb"
      },
      "execution_count": 17,
      "outputs": [
        {
          "output_type": "display_data",
          "data": {
            "text/plain": [
              "<Figure size 720x432 with 1 Axes>"
            ],
            "image/png": "[encoded data removed]"
          },
          "metadata": {}
        }
      ]
    },
    {
      "cell_type": "code",
      "source": [
        "plt.style.use('ggplot')\n",
        "plt.figure(figsize=(10,6))\n",
        "sns.countplot(x='label', data=df_train).set(title='Emotions');"
      ],
      "metadata": {
        "colab": {
          "base_uri": "https://localhost:8080/",
          "height": 408
        },
        "id": "GNYAdlPSO2Vc",
        "outputId": "f5632883-51c8-4d1c-eb6d-e5249dd1dc8b"
      },
      "execution_count": 18,
      "outputs": [
        {
          "output_type": "display_data",
          "data": {
            "text/plain": [
              "<Figure size 720x432 with 1 Axes>"
            ],
            "image/png": "[encoded data removed]"
          },
          "metadata": {}
        }
      ]
    },
    {
      "cell_type": "code",
      "source": [
        "def _multiple_replace(mapping, text):\n",
        "    pattern = \"|\".join(map(re.escape, mapping.keys()))\n",
        "    return re.sub(pattern, lambda m: mapping[m.group()], str(text))\n",
        "\n",
        "def convert_fa_numbers(input_str):\n",
        "    mapping = {\n",
        "        '۰': '0',\n",
        "        '۱': '1',\n",
        "        '۲': '2',\n",
        "        '۳': '3',\n",
        "        '۴': '4',\n",
        "        '۵': '5',\n",
        "        '۶': '6',\n",
        "        '۷': '7',\n",
        "        '۸': '8',\n",
        "        '۹': '9',\n",
        "        '.': '.',\n",
        "        '۰': '0',\n",
        "        '١': '1',\n",
        "        '٢': '2',\n",
        "        '٣': '3',\n",
        "        '٤': '4',\n",
        "        '٥': '5',\n",
        "        '٦': '6',\n",
        "        '٧': '7',\n",
        "        '٨': '8',\n",
        "        '٩': '9',\n",
        "    }\n",
        "    return _multiple_replace(mapping, input_str)\n",
        "\n",
        "\n",
        "def convert_ar_characters(input_str):\n",
        "    \"\"\"\n",
        "    Converts Arabic chars to related Persian unicode char\n",
        "    :param input_str: String contains Arabic chars\n",
        "    :return: New str with converted arabic chars\n",
        "    \"\"\"\n",
        "    mapping = {\n",
        "        'ك': 'ک',\n",
        "        'ى': 'ی',\n",
        "        'ي': 'ی',\n",
        "        'ئ':'ی',\n",
        "        'إ':'ا',\n",
        "        'أ':'ا',\n",
        "        'ة':'ه',\n",
        "        'ؤ':'و'\n",
        "    }\n",
        "    return _multiple_replace(mapping, input_str)\n",
        "\n",
        "\n",
        "def preprocess(text):\n",
        "    extractor = URLExtract()\n",
        "    for url in extractor.gen_urls(text):\n",
        "        text = text.replace(url,' ')\n",
        "    emj = emojis.get(text)\n",
        "    for i in emj:\n",
        "        if i in text:\n",
        "            text = text.replace(i,' ')\n",
        "    text = convert_fa_numbers(text)\n",
        "    text = convert_ar_characters(text)\n",
        "    # regex to detect and replace all smilies in the text with <smiley>\n",
        "    text = re.sub(r\"(:\\s?\\)|:-\\)|\\(\\s?:|\\(-:|:\\'\\)|:\\s?D|8-\\)|:\\s?\\||;\\s?\\)|:-\\*|:-\\||:-\\(|:\\s?P|:-P|:-p|:-b|:-O|:-o|:-0|:-\\@|:\\$|:-\\^|:-&|:-\\*|:-\\+|:-\\~|:-\\`|:-\\>|:-\\<|:-\\}|:-\\{|\\[:\\s?\\]|\\[:\\s?\\]|:\\s?\\]|:\\s?\\[|:\\s?\\}|:\\s?\\{)\",'',text)\n",
        "    text = text.lower() # we lowercase here to prevent changes in the URLs and smilies\n",
        "    text = text.strip()\n",
        "    text = re.sub(r'[♥❤٪“”‘’$-;،●•«»|…<>=#.:()\"\\'!?؟،,@$%^&*_+\\[\\]/]', ' ', text) \n",
        "    # text = re.sub(r'[<>«»#.:()|\"\\'!?؟،-,@$%؛^&●•={}^$÷…*_+\\[\\]/]', ' ', text)\n",
        "    text = re.sub(r'[\\s]{2,}', ' ', text)\n",
        "    text = re.sub(r'(\\w)\\1{2,}', r'\\1',text)\n",
        "    text = re.sub(r'[A-Za-z]+', '' , text) # remove english words\n",
        "    text=''.join([i for i in text if not i.isdigit()]) # remove numbers\n",
        "    if re.search(r'[\\u0600-\\u06FF]', text):\n",
        "        return(text)\n",
        "    else:\n",
        "        return 'None'\n"
      ],
      "metadata": {
        "id": "r1H49TjZ2cUD"
      },
      "execution_count": 19,
      "outputs": []
    },
    {
      "cell_type": "code",
      "source": [
        "def stemming(text):\n",
        "  my_stemmer = FindStems()\n",
        "\n",
        "  text = text.split()\n",
        "\n",
        "  \n",
        "  text=[my_stemmer.convert_to_stem (y) for y in text]\n",
        "  \n",
        "  return \" \" .join(text)\n"
      ],
      "metadata": {
        "id": "1HMI8fLN_-on"
      },
      "execution_count": 20,
      "outputs": []
    },
    {
      "cell_type": "code",
      "source": [
        "def remove_Stopword(text):\n",
        "    file = nltk.word_tokenize(text)\n",
        "    newFile=''\n",
        "    stopWord=[]\n",
        "    fin=open('/content/drive/MyDrive/emotion detection/data/stopword.txt',encoding='utf8')\n",
        "\n",
        "    for word in fin.readlines():\n",
        "        stopWord.append(word.replace('\\n', '').lower().replace('\\ufeff', '').lower().replace('\\ufeff', '').upper().replace(\" \" ,\"\"))\n",
        "\n",
        "    for word in file:\n",
        "        word=word.replace(' ', '')\n",
        "        if word in stopWord:\n",
        "            continue\n",
        "        else:\n",
        "            newFile = newFile + ' ' + word\n",
        "\n",
        "\n",
        "    return newFile"
      ],
      "metadata": {
        "id": "aJIoUCmyPwQZ"
      },
      "execution_count": 21,
      "outputs": []
    },
    {
      "cell_type": "code",
      "source": [
        "# df_train['Cleaned'] = df_train['text'].progress_apply(preprocess)\n",
        "df_train['cleaned'] = df_train['text'].apply(lambda t: preprocess(t))\n",
        "df_train['cleaned']\n"
      ],
      "metadata": {
        "colab": {
          "base_uri": "https://localhost:8080/"
        },
        "id": "O0-MKWkB2eh3",
        "outputId": "d326a553-4ced-44d7-f525-55365134f79e"
      },
      "execution_count": 22,
      "outputs": [
        {
          "output_type": "execute_result",
          "data": {
            "text/plain": [
              "0       خیلی کوچیک هستن و سایزشون بدرد نمیخوره میخوام ...\n",
              "1          از صدای پرنده دم دمای صبح متنفرم متنفرم متنفرم\n",
              "2        کیفیتش خیلی خوبه با شک خریدم ولی واقعا راضیم ...\n",
              "3       چون همش با دوربین ثبت شده ایا میشه اعتراض زد و...\n",
              "4                      این وضع ب طرز خنده داری گریه داره \n",
              "                              ...                        \n",
              "6120    مرحوم پیش بینی آبکی زیاد میکرد مرحوم عجب آینده...\n",
              "6121    کلا عین اعتقادات و توییت زدناتون در قبال رانت ...\n",
              "6122    خب وقتی میگی کسی بیاد مارو بگیره یارو ترس میکن...\n",
              "6123    همون هارو مگه آهنگ جدیدای خواننده‌های دهه پنجا...\n",
              "6124                               نیم دگیرش چطور حل نیشد\n",
              "Name: cleaned, Length: 6125, dtype: object"
            ]
          },
          "metadata": {},
          "execution_count": 22
        }
      ]
    },
    {
      "cell_type": "code",
      "source": [
        "df_test['cleaned'] = df_test['text'].apply(lambda t: preprocess(t))\n",
        "df_test['cleaned']"
      ],
      "metadata": {
        "colab": {
          "base_uri": "https://localhost:8080/"
        },
        "id": "DJZAbShI3CmI",
        "outputId": "c15d516a-b05c-49e9-b80f-b05711605a2e"
      },
      "execution_count": 23,
      "outputs": [
        {
          "output_type": "execute_result",
          "data": {
            "text/plain": [
              "0       این شاید اولین عزای عمومی واقعی است که یاد دار...\n",
              "1       دیشب بعد از ارسال تویت مربوط به آثار باستانی ت...\n",
              "2       کدوم شعبه پول نداده بگو الان برات آمار دقیق بد...\n",
              "3       امروز وسط یه بحث با بابا مامانم گفتم آدم باید ...\n",
              "4       امشب گفت نامزدی دوستش که ادم روشنفکری است بهم ...\n",
              "                              ...                        \n",
              "1146    یعنی این آهنگ مرغ سحر جوری ساخته شده و روی این...\n",
              "1147    درود بر همه ایرانیان شریف که در این سرما در تظ...\n",
              "1148    امروز تولدم است عید است ولی شاد نیستم عید و تو...\n",
              "1149                   لعنت به اونی که دلتنگ نگهت میداره \n",
              "1150    من در شگفت انگیز و قبل از بالا رفتن قیمت ها به...\n",
              "Name: cleaned, Length: 1151, dtype: object"
            ]
          },
          "metadata": {},
          "execution_count": 23
        }
      ]
    },
    {
      "cell_type": "code",
      "source": [
        "df_train\n"
      ],
      "metadata": {
        "colab": {
          "base_uri": "https://localhost:8080/",
          "height": 424
        },
        "id": "UmCoylXZ77iG",
        "outputId": "ab99376c-9150-4d7f-94f2-3bd5c4411be2"
      },
      "execution_count": 24,
      "outputs": [
        {
          "output_type": "execute_result",
          "data": {
            "text/plain": [
              "                                                   text     label  \\\n",
              "0     خیلی کوچیک هستن و سایزشون بدرد نمیخوره میخوام ...       SAD   \n",
              "1        از صدای پرنده دم دمای صبح متنفرم متنفرم متنفرم      HATE   \n",
              "2      \"کیفیتش خیلی خوبه با شک خریدم ولی واقعا راضیم...       SAD   \n",
              "3     چون همش با دوربین ثبت شده ، ایا میشه اعتراض زد...     OTHER   \n",
              "4                 اين وضع ب طرز خنده داري گريه داره ...       SAD   \n",
              "...                                                 ...       ...   \n",
              "6120  مرحوم پیش بینی آبکی زیاد میکرد     مرحوم عجب آ...  SURPRISE   \n",
              "6121  کلا عین اعتقادات و توئیت زدناتون ... !!   در ق...     ANGRY   \n",
              "6122  خب وقتی میگی کسی بیاد مارو بگیره یارو ترس میکن...      FEAR   \n",
              "6123  همون هارو     مگه آهنگ جدیدای خواننده‌های دهه ...  SURPRISE   \n",
              "6124                            نیم دگیرش چطور حل نیشد      OTHER   \n",
              "\n",
              "                                                cleaned  \n",
              "0     خیلی کوچیک هستن و سایزشون بدرد نمیخوره میخوام ...  \n",
              "1        از صدای پرنده دم دمای صبح متنفرم متنفرم متنفرم  \n",
              "2      کیفیتش خیلی خوبه با شک خریدم ولی واقعا راضیم ...  \n",
              "3     چون همش با دوربین ثبت شده ایا میشه اعتراض زد و...  \n",
              "4                    این وضع ب طرز خنده داری گریه داره   \n",
              "...                                                 ...  \n",
              "6120  مرحوم پیش بینی آبکی زیاد میکرد مرحوم عجب آینده...  \n",
              "6121  کلا عین اعتقادات و توییت زدناتون در قبال رانت ...  \n",
              "6122  خب وقتی میگی کسی بیاد مارو بگیره یارو ترس میکن...  \n",
              "6123  همون هارو مگه آهنگ جدیدای خواننده‌های دهه پنجا...  \n",
              "6124                             نیم دگیرش چطور حل نیشد  \n",
              "\n",
              "[6125 rows x 3 columns]"
            ],
            "text/html": [
              "\n",
              "  <div id=\"df-2a222c19-1e62-4295-8a4a-34080f9c0e89\">\n",
              "    <div class=\"colab-df-container\">\n",
              "      <div>\n",
              "<style scoped>\n",
              "    .dataframe tbody tr th:only-of-type {\n",
              "        vertical-align: middle;\n",
              "    }\n",
              "\n",
              "    .dataframe tbody tr th {\n",
              "        vertical-align: top;\n",
              "    }\n",
              "\n",
              "    .dataframe thead th {\n",
              "        text-align: right;\n",
              "    }\n",
              "</style>\n",
              "<table border=\"1\" class=\"dataframe\">\n",
              "  <thead>\n",
              "    <tr style=\"text-align: right;\">\n",
              "      <th></th>\n",
              "      <th>text</th>\n",
              "      <th>label</th>\n",
              "      <th>cleaned</th>\n",
              "    </tr>\n",
              "  </thead>\n",
              "  <tbody>\n",
              "    <tr>\n",
              "      <th>0</th>\n",
              "      <td>خیلی کوچیک هستن و سایزشون بدرد نمیخوره میخوام ...</td>\n",
              "      <td>SAD</td>\n",
              "      <td>خیلی کوچیک هستن و سایزشون بدرد نمیخوره میخوام ...</td>\n",
              "    </tr>\n",
              "    <tr>\n",
              "      <th>1</th>\n",
              "      <td>از صدای پرنده دم دمای صبح متنفرم متنفرم متنفرم</td>\n",
              "      <td>HATE</td>\n",
              "      <td>از صدای پرنده دم دمای صبح متنفرم متنفرم متنفرم</td>\n",
              "    </tr>\n",
              "    <tr>\n",
              "      <th>2</th>\n",
              "      <td>\"کیفیتش خیلی خوبه با شک خریدم ولی واقعا راضیم...</td>\n",
              "      <td>SAD</td>\n",
              "      <td>کیفیتش خیلی خوبه با شک خریدم ولی واقعا راضیم ...</td>\n",
              "    </tr>\n",
              "    <tr>\n",
              "      <th>3</th>\n",
              "      <td>چون همش با دوربین ثبت شده ، ایا میشه اعتراض زد...</td>\n",
              "      <td>OTHER</td>\n",
              "      <td>چون همش با دوربین ثبت شده ایا میشه اعتراض زد و...</td>\n",
              "    </tr>\n",
              "    <tr>\n",
              "      <th>4</th>\n",
              "      <td>اين وضع ب طرز خنده داري گريه داره ...</td>\n",
              "      <td>SAD</td>\n",
              "      <td>این وضع ب طرز خنده داری گریه داره</td>\n",
              "    </tr>\n",
              "    <tr>\n",
              "      <th>...</th>\n",
              "      <td>...</td>\n",
              "      <td>...</td>\n",
              "      <td>...</td>\n",
              "    </tr>\n",
              "    <tr>\n",
              "      <th>6120</th>\n",
              "      <td>مرحوم پیش بینی آبکی زیاد میکرد     مرحوم عجب آ...</td>\n",
              "      <td>SURPRISE</td>\n",
              "      <td>مرحوم پیش بینی آبکی زیاد میکرد مرحوم عجب آینده...</td>\n",
              "    </tr>\n",
              "    <tr>\n",
              "      <th>6121</th>\n",
              "      <td>کلا عین اعتقادات و توئیت زدناتون ... !!   در ق...</td>\n",
              "      <td>ANGRY</td>\n",
              "      <td>کلا عین اعتقادات و توییت زدناتون در قبال رانت ...</td>\n",
              "    </tr>\n",
              "    <tr>\n",
              "      <th>6122</th>\n",
              "      <td>خب وقتی میگی کسی بیاد مارو بگیره یارو ترس میکن...</td>\n",
              "      <td>FEAR</td>\n",
              "      <td>خب وقتی میگی کسی بیاد مارو بگیره یارو ترس میکن...</td>\n",
              "    </tr>\n",
              "    <tr>\n",
              "      <th>6123</th>\n",
              "      <td>همون هارو     مگه آهنگ جدیدای خواننده‌های دهه ...</td>\n",
              "      <td>SURPRISE</td>\n",
              "      <td>همون هارو مگه آهنگ جدیدای خواننده‌های دهه پنجا...</td>\n",
              "    </tr>\n",
              "    <tr>\n",
              "      <th>6124</th>\n",
              "      <td>نیم دگیرش چطور حل نیشد</td>\n",
              "      <td>OTHER</td>\n",
              "      <td>نیم دگیرش چطور حل نیشد</td>\n",
              "    </tr>\n",
              "  </tbody>\n",
              "</table>\n",
              "<p>6125 rows × 3 columns</p>\n",
              "</div>\n",
              "      <button class=\"colab-df-convert\" onclick=\"convertToInteractive('df-2a222c19-1e62-4295-8a4a-34080f9c0e89')\"\n",
              "              title=\"Convert this dataframe to an interactive table.\"\n",
              "              style=\"display:none;\">\n",
              "        \n",
              "  <svg xmlns=\"http://www.w3.org/2000/svg\" height=\"24px\"viewBox=\"0 0 24 24\"\n",
              "       width=\"24px\">\n",
              "    <path d=\"M0 0h24v24H0V0z\" fill=\"none\"/>\n",
              "    <path d=\"M18.56 5.44l.94 2.06.94-2.06 2.06-.94-2.06-.94-.94-2.06-.94 2.06-2.06.94zm-11 1L8.5 8.5l.94-2.06 2.06-.94-2.06-.94L8.5 2.5l-.94 2.06-2.06.94zm10 10l.94 2.06.94-2.06 2.06-.94-2.06-.94-.94-2.06-.94 2.06-2.06.94z\"/><path d=\"M17.41 7.96l-1.37-1.37c-.4-.4-.92-.59-1.43-.59-.52 0-1.04.2-1.43.59L10.3 9.45l-7.72 7.72c-.78.78-.78 2.05 0 2.83L4 21.41c.39.39.9.59 1.41.59.51 0 1.02-.2 1.41-.59l7.78-7.78 2.81-2.81c.8-.78.8-2.07 0-2.86zM5.41 20L4 18.59l7.72-7.72 1.47 1.35L5.41 20z\"/>\n",
              "  </svg>\n",
              "      </button>\n",
              "      \n",
              "  <style>\n",
              "    .colab-df-container {\n",
              "      display:flex;\n",
              "      flex-wrap:wrap;\n",
              "      gap: 12px;\n",
              "    }\n",
              "\n",
              "    .colab-df-convert {\n",
              "      background-color: #E8F0FE;\n",
              "      border: none;\n",
              "      border-radius: 50%;\n",
              "      cursor: pointer;\n",
              "      display: none;\n",
              "      fill: #1967D2;\n",
              "      height: 32px;\n",
              "      padding: 0 0 0 0;\n",
              "      width: 32px;\n",
              "    }\n",
              "\n",
              "    .colab-df-convert:hover {\n",
              "      background-color: #E2EBFA;\n",
              "      box-shadow: 0px 1px 2px rgba(60, 64, 67, 0.3), 0px 1px 3px 1px rgba(60, 64, 67, 0.15);\n",
              "      fill: #174EA6;\n",
              "    }\n",
              "\n",
              "    [theme=dark] .colab-df-convert {\n",
              "      background-color: #3B4455;\n",
              "      fill: #D2E3FC;\n",
              "    }\n",
              "\n",
              "    [theme=dark] .colab-df-convert:hover {\n",
              "      background-color: #434B5C;\n",
              "      box-shadow: 0px 1px 3px 1px rgba(0, 0, 0, 0.15);\n",
              "      filter: drop-shadow(0px 1px 2px rgba(0, 0, 0, 0.3));\n",
              "      fill: #FFFFFF;\n",
              "    }\n",
              "  </style>\n",
              "\n",
              "      <script>\n",
              "        const buttonEl =\n",
              "          document.querySelector('#df-2a222c19-1e62-4295-8a4a-34080f9c0e89 button.colab-df-convert');\n",
              "        buttonEl.style.display =\n",
              "          google.colab.kernel.accessAllowed ? 'block' : 'none';\n",
              "\n",
              "        async function convertToInteractive(key) {\n",
              "          const element = document.querySelector('#df-2a222c19-1e62-4295-8a4a-34080f9c0e89');\n",
              "          const dataTable =\n",
              "            await google.colab.kernel.invokeFunction('convertToInteractive',\n",
              "                                                     [key], {});\n",
              "          if (!dataTable) return;\n",
              "\n",
              "          const docLinkHtml = 'Like what you see? Visit the ' +\n",
              "            '<a target=\"_blank\" href=https://colab.research.google.com/notebooks/data_table.ipynb>data table notebook</a>'\n",
              "            + ' to learn more about interactive tables.';\n",
              "          element.innerHTML = '';\n",
              "          dataTable['output_type'] = 'display_data';\n",
              "          await google.colab.output.renderOutput(dataTable, element);\n",
              "          const docLink = document.createElement('div');\n",
              "          docLink.innerHTML = docLinkHtml;\n",
              "          element.appendChild(docLink);\n",
              "        }\n",
              "      </script>\n",
              "    </div>\n",
              "  </div>\n",
              "  "
            ]
          },
          "metadata": {},
          "execution_count": 24
        }
      ]
    },
    {
      "cell_type": "code",
      "source": [
        "df_train['cleaned'] = df_train['cleaned'].apply(lambda t: remove_Stopword(t))\n",
        "df_train['cleaned']\n"
      ],
      "metadata": {
        "colab": {
          "base_uri": "https://localhost:8080/"
        },
        "id": "XdmAMpkwQD0C",
        "outputId": "78e51ace-de59-4a35-f27b-c9028eb4c4c2"
      },
      "execution_count": 25,
      "outputs": [
        {
          "output_type": "execute_result",
          "data": {
            "text/plain": [
              "0              کوچیک هستن سایزشون بدرد نمیخوره میخوام بدم\n",
              "1                صدای پرنده دمای صبح متنفرم متنفرم متنفرم\n",
              "2        کیفیتش خوبه شک خریدم واقعا راضیم حدود ماه متا...\n",
              "3        همش دوربین ثبت ایا اعتراض زد اصن تاثیر اطلاعی...\n",
              "4                                           طرز خنده گریه\n",
              "                              ...                        \n",
              "6120     مرحوم بینی آبکی زیاد میکرد مرحوم عجب آینده نگ...\n",
              "6121     کلا عین اعتقادات توییت زدناتون قبال رانت نون ...\n",
              "6122     میگی بیاد مارو بگیره یارو ترس یکم دوست حاله‌ا...\n",
              "6123     همون هارو آهنگ جدیدای خواننده‌های دهه پنجاه گ...\n",
              "6124                                    نیم دگیرش حل نیشد\n",
              "Name: cleaned, Length: 6125, dtype: object"
            ]
          },
          "metadata": {},
          "execution_count": 25
        }
      ]
    },
    {
      "cell_type": "code",
      "source": [
        "# df_train['Cleaned'] = df_train['text'].progress_apply(preprocess)\n",
        "df_test['cleaned'] = df_test['cleaned'].apply(lambda t: remove_Stopword(t))\n",
        "df_test['cleaned']\n",
        "\n"
      ],
      "metadata": {
        "colab": {
          "base_uri": "https://localhost:8080/"
        },
        "id": "F-0MYqcmQDxm",
        "outputId": "427c6de5-7dd9-4e62-de9d-5645d287319b"
      },
      "execution_count": 26,
      "outputs": [
        {
          "output_type": "execute_result",
          "data": {
            "text/plain": [
              "0        اولین عزای عمومی یاد وجودم عزادار است؛ پر گری...\n",
              "1        دیشب ارسال تویت مربوط آثار باستانی تویت نوشتم...\n",
              "2        کدوم شعبه پول نداده برات آمار دقیق بدم شعار ا...\n",
              "3        وسط بحث بابا مامانم آدم تلاش کنه شادی قلبش بع...\n",
              "4        امشب نامزدی دوستش ادم روشنفکری بهم خورده دختر...\n",
              "                              ...                        \n",
              "1146     آهنگ مرغ سحر جوری شعر نشسته انگار ازل شعر هیش...\n",
              "1147     درود ایرانیان شریف سرما تظاهرات بیاد ماندنی ز...\n",
              "1148     تولدم عید شاد عید تولد شادمانه روزی هموطن عقی...\n",
              "1149                          لعنت اونی دلتنگ نگهت میداره\n",
              "1150     شگفت انگیز رفتن قیمت پیشنهاد همسرم خرید نتیجه...\n",
              "Name: cleaned, Length: 1151, dtype: object"
            ]
          },
          "metadata": {},
          "execution_count": 26
        }
      ]
    },
    {
      "cell_type": "code",
      "source": [
        "# df_train['Cleaned'] = df_train['text'].progress_apply(preprocess)\n",
        "df_train['stemmed'] = df_train['cleaned'].apply(lambda t: stemming(t))\n",
        "df_train['stemmed']\n",
        "\n"
      ],
      "metadata": {
        "colab": {
          "base_uri": "https://localhost:8080/"
        },
        "id": "w3wINDS2Jiro",
        "outputId": "00348399-3f11-4f38-9d1d-70e66c3e92c4"
      },
      "execution_count": 27,
      "outputs": [
        {
          "output_type": "execute_result",
          "data": {
            "text/plain": [
              "0            کوچیک هستن سایزشون درید&در نمیخوره میخوام بد\n",
              "1                     صدا پرنده دما صبح متنفر متنفر متنفر\n",
              "2       کیفیت خوبه شک خرید&خر واقعا راضی حدود ماه متاس...\n",
              "3       هم دوربین ثبت ایا اعتراض زد اصن تاثیر اطلاع مم...\n",
              "4                                           طرز خنده گریه\n",
              "                              ...                        \n",
              "6120    مرحوم بینی آبکی زیاد کرد&کن مرحوم عجب آینده نگ...\n",
              "6121    کلا عین اعتقادات توی زدناتون قبال ران نون مفت ...\n",
              "6122    میگ آمد&آ مارو بگیره یارو ترس یکم دوست حاله‌ای...\n",
              "6123    همون هارو آهنگ جدید خواننده دهه پنجاه گوش دید&بین\n",
              "6124                                    نیم دگیرش حل نیشد\n",
              "Name: stemmed, Length: 6125, dtype: object"
            ]
          },
          "metadata": {},
          "execution_count": 27
        }
      ]
    },
    {
      "cell_type": "code",
      "source": [
        "for index, word in enumerate(df_train['text']):\n",
        "  word = re.sub('&',' ',word)\n",
        "  df_train['stemmed'][index] = word"
      ],
      "metadata": {
        "id": "wkeSNcaStJnV"
      },
      "execution_count": 28,
      "outputs": []
    },
    {
      "cell_type": "code",
      "source": [
        "# df_train['Cleaned'] = df_train['text'].progress_apply(preprocess)\n",
        "df_test['stemmed'] = df_test['cleaned'].apply(lambda t: stemming(t))\n",
        "df_test['stemmed']\n",
        "\n"
      ],
      "metadata": {
        "colab": {
          "base_uri": "https://localhost:8080/"
        },
        "id": "3kwzB1rwJinf",
        "outputId": "31fcdbda-9726-46ca-d927-3d244315a400"
      },
      "execution_count": 29,
      "outputs": [
        {
          "output_type": "execute_result",
          "data": {
            "text/plain": [
              "0       اولین عزا عمومی یاد وجود عزادار است؛ پر گریه پ...\n",
              "1       دیشب ارسال توی مربوط اثر باستانی توی نوشت&نویس...\n",
              "2       کدو شعبه پول نداده برات آمار دقیق بد شعار الکی...\n",
              "3       وسط بحث بابا مامان آدم تلاش کنه شادی قلب بعد خ...\n",
              "4       امشب نامزدی دوست ادم روشنفکری به خورده دختر بش...\n",
              "                              ...                        \n",
              "1146    آهنگ مرغ سحر جور شعر نشسته انگار ازل شعر هیشکی...\n",
              "1147    درود ایرانی شریف سرما تظاهرات آمد&آ ماندنی زیب...\n",
              "1148    تولد عید شاد عید تولد شادمانه روزی هموطن عقیده...\n",
              "1149                           لعنت اونی دلتنگ نگه میداره\n",
              "1150    شگفت انگیخت&انگیز رفتن قیمت پیشنهاد همسر خرید ...\n",
              "Name: stemmed, Length: 1151, dtype: object"
            ]
          },
          "metadata": {},
          "execution_count": 29
        }
      ]
    },
    {
      "cell_type": "code",
      "source": [
        "for index, word in enumerate(df_test['text']):\n",
        "  word = re.sub('&',' ',word)\n",
        "  df_test['stemmed'][index] = word"
      ],
      "metadata": {
        "id": "Ay2Fs0g-tPIv"
      },
      "execution_count": 30,
      "outputs": []
    },
    {
      "cell_type": "code",
      "source": [
        "df_trian = df_train.drop_duplicates()\n",
        "df_test = df_test.drop_duplicates()\n",
        "df_trian = df_trian.dropna()\n",
        "df_test = df_test.dropna()\n",
        "df_trian = df_trian.reset_index(drop=True)\n",
        "df_test = df_test.reset_index(drop=True)"
      ],
      "metadata": {
        "id": "PB3AfsHPKCTu"
      },
      "execution_count": 31,
      "outputs": []
    },
    {
      "cell_type": "code",
      "source": [
        "df_trian.info()"
      ],
      "metadata": {
        "colab": {
          "base_uri": "https://localhost:8080/"
        },
        "id": "62Q5n3MQKCRP",
        "outputId": "2ffdec73-ea7b-4f5c-e760-d27c7c02cdca"
      },
      "execution_count": 32,
      "outputs": [
        {
          "output_type": "stream",
          "name": "stdout",
          "text": [
            "<class 'pandas.core.frame.DataFrame'>\n",
            "RangeIndex: 6088 entries, 0 to 6087\n",
            "Data columns (total 4 columns):\n",
            " #   Column   Non-Null Count  Dtype \n",
            "---  ------   --------------  ----- \n",
            " 0   text     6088 non-null   object\n",
            " 1   label    6088 non-null   object\n",
            " 2   cleaned  6088 non-null   object\n",
            " 3   stemmed  6088 non-null   object\n",
            "dtypes: object(4)\n",
            "memory usage: 190.4+ KB\n"
          ]
        }
      ]
    },
    {
      "cell_type": "code",
      "source": [
        "df_test.info()"
      ],
      "metadata": {
        "colab": {
          "base_uri": "https://localhost:8080/"
        },
        "id": "C6rNiuGWKY_T",
        "outputId": "9ed5fd8d-7ed7-46c8-95f2-88519d99f321"
      },
      "execution_count": 33,
      "outputs": [
        {
          "output_type": "stream",
          "name": "stdout",
          "text": [
            "<class 'pandas.core.frame.DataFrame'>\n",
            "RangeIndex: 1151 entries, 0 to 1150\n",
            "Data columns (total 4 columns):\n",
            " #   Column   Non-Null Count  Dtype \n",
            "---  ------   --------------  ----- \n",
            " 0   text     1151 non-null   object\n",
            " 1   label    1151 non-null   object\n",
            " 2   cleaned  1151 non-null   object\n",
            " 3   stemmed  1151 non-null   object\n",
            "dtypes: object(4)\n",
            "memory usage: 36.1+ KB\n"
          ]
        }
      ]
    },
    {
      "cell_type": "code",
      "source": [
        "df_train.to_csv('/content/drive/MyDrive/emotion detection/data/basic/armanTrainCleaned.csv', index=False)\n",
        "df_test.to_csv('/content/drive/MyDrive/emotion detection/data/basic/armanTestCleaned.csv', index=False)\n"
      ],
      "metadata": {
        "id": "dpqEZ_-t79GK"
      },
      "execution_count": 34,
      "outputs": []
    },
    {
      "cell_type": "code",
      "source": [],
      "metadata": {
        "id": "Hou4I5CaKbJ1"
      },
      "execution_count": 34,
      "outputs": []
    }
  ]
}